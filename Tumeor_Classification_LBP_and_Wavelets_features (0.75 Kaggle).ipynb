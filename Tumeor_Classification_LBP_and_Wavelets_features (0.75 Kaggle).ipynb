{
  "nbformat": 4,
  "nbformat_minor": 0,
  "metadata": {
    "colab": {
      "provenance": []
    },
    "kernelspec": {
      "name": "python3",
      "display_name": "Python 3"
    },
    "language_info": {
      "name": "python"
    },
    "accelerator": "TPU"
  },
  "cells": [
    {
      "cell_type": "code",
      "execution_count": 52,
      "metadata": {
        "id": "2O-eRPNlVH-y"
      },
      "outputs": [],
      "source": [
        "# import libraries\n",
        "\n",
        "\n",
        "from google.colab import files\n",
        "import matplotlib.pyplot as plt\n",
        "from sklearn.model_selection import train_test_split\n",
        "from skimage import io, transform, color\n",
        "from skimage.feature import hog\n",
        "from sklearn.decomposition import PCA\n",
        "from sklearn.svm import SVC\n",
        "from sklearn.metrics import accuracy_score, confusion_matrix, classification_report\n",
        "from sklearn.model_selection import GridSearchCV\n",
        "from imblearn.over_sampling import RandomOverSampler\n",
        "import seaborn as sns\n",
        "import numpy as np\n",
        "import pandas as pd\n",
        "from PIL import Image\n",
        "import os\n",
        "import cv2\n",
        "import shutil"
      ]
    },
    {
      "cell_type": "markdown",
      "source": [],
      "metadata": {
        "id": "iB1mpqOa9xFs"
      }
    },
    {
      "cell_type": "code",
      "source": [
        "!mkdir -p ~/.kaggle\n",
        "!cp kaggle.json ~/.kaggle/\n",
        "!chmod 600 ~/.kaggle/kaggle.json"
      ],
      "metadata": {
        "id": "He2ZJui5WIQw"
      },
      "execution_count": 2,
      "outputs": []
    },
    {
      "cell_type": "code",
      "source": [
        "!kaggle competitions download -c umor-classification"
      ],
      "metadata": {
        "colab": {
          "base_uri": "https://localhost:8080/"
        },
        "id": "kMsB-pTAWMc6",
        "outputId": "03efb9ce-ccf5-4ef8-b230-64423bd01c05"
      },
      "execution_count": 3,
      "outputs": [
        {
          "output_type": "stream",
          "name": "stdout",
          "text": [
            "Downloading umor-classification.zip to /content\n",
            " 88% 169M/193M [00:01<00:00, 143MB/s]\n",
            "100% 193M/193M [00:01<00:00, 137MB/s]\n"
          ]
        }
      ]
    },
    {
      "cell_type": "code",
      "source": [
        "!unzip umor-classification.zip"
      ],
      "metadata": {
        "colab": {
          "base_uri": "https://localhost:8080/"
        },
        "id": "HskaFU0-WPWv",
        "outputId": "4b57acfa-f403-487a-9ade-638f4d4111a5"
      },
      "execution_count": 4,
      "outputs": [
        {
          "output_type": "stream",
          "name": "stdout",
          "text": [
            "Archive:  umor-classification.zip\n",
            "  inflating: images/images/1006.png  \n",
            "  inflating: images/images/1028.png  \n",
            "  inflating: images/images/1046.png  \n",
            "  inflating: images/images/1062.png  \n",
            "  inflating: images/images/1066.png  \n",
            "  inflating: images/images/1068.png  \n",
            "  inflating: images/images/1070.png  \n",
            "  inflating: images/images/1073.png  \n",
            "  inflating: images/images/1091.png  \n",
            "  inflating: images/images/1097.png  \n",
            "  inflating: images/images/1105.png  \n",
            "  inflating: images/images/1127.png  \n",
            "  inflating: images/images/1138.png  \n",
            "  inflating: images/images/1154.png  \n",
            "  inflating: images/images/1156.png  \n",
            "  inflating: images/images/1159.png  \n",
            "  inflating: images/images/1183.png  \n",
            "  inflating: images/images/1191.png  \n",
            "  inflating: images/images/1202.png  \n",
            "  inflating: images/images/1218.png  \n",
            "  inflating: images/images/1230.png  \n",
            "  inflating: images/images/1234.png  \n",
            "  inflating: images/images/1235.png  \n",
            "  inflating: images/images/1240.png  \n",
            "  inflating: images/images/1253.png  \n",
            "  inflating: images/images/1255.png  \n",
            "  inflating: images/images/1277.png  \n",
            "  inflating: images/images/1285.png  \n",
            "  inflating: images/images/1293.png  \n",
            "  inflating: images/images/1300.png  \n",
            "  inflating: images/images/1310.png  \n",
            "  inflating: images/images/1316.png  \n",
            "  inflating: images/images/1331.png  \n",
            "  inflating: images/images/1333.png  \n",
            "  inflating: images/images/1340.png  \n",
            "  inflating: images/images/1341.png  \n",
            "  inflating: images/images/1343.png  \n",
            "  inflating: images/images/1362.png  \n",
            "  inflating: images/images/1366.png  \n",
            "  inflating: images/images/1367.png  \n",
            "  inflating: images/images/1378.png  \n",
            "  inflating: images/images/1379.png  \n",
            "  inflating: images/images/1383.png  \n",
            "  inflating: images/images/1403.png  \n",
            "  inflating: images/images/1435.png  \n",
            "  inflating: images/images/1450.png  \n",
            "  inflating: images/images/1453.png  \n",
            "  inflating: images/images/1458.png  \n",
            "  inflating: images/images/1480.png  \n",
            "  inflating: images/images/1490.png  \n",
            "  inflating: images/images/1501.png  \n",
            "  inflating: images/images/1503.png  \n",
            "  inflating: images/images/1515.png  \n",
            "  inflating: images/images/1532.png  \n",
            "  inflating: images/images/1568.png  \n",
            "  inflating: images/images/1577.png  \n",
            "  inflating: images/images/1579.png  \n",
            "  inflating: images/images/1589.png  \n",
            "  inflating: images/images/1608.png  \n",
            "  inflating: images/images/1610.png  \n",
            "  inflating: images/images/1640.png  \n",
            "  inflating: images/images/1646.png  \n",
            "  inflating: images/images/1653.png  \n",
            "  inflating: images/images/1676.png  \n",
            "  inflating: images/images/1681.png  \n",
            "  inflating: images/images/1687.png  \n",
            "  inflating: images/images/1704.png  \n",
            "  inflating: images/images/1715.png  \n",
            "  inflating: images/images/1735.png  \n",
            "  inflating: images/images/1750.png  \n",
            "  inflating: images/images/1766.png  \n",
            "  inflating: images/images/1777.png  \n",
            "  inflating: images/images/1802.png  \n",
            "  inflating: images/images/1815.png  \n",
            "  inflating: images/images/1844.png  \n",
            "  inflating: images/images/1870.png  \n",
            "  inflating: images/images/1872.png  \n",
            "  inflating: images/images/1875.png  \n",
            "  inflating: images/images/1884.png  \n",
            "  inflating: images/images/1886.png  \n",
            "  inflating: images/images/1895.png  \n",
            "  inflating: images/images/1897.png  \n",
            "  inflating: images/images/1914.png  \n",
            "  inflating: images/images/1936.png  \n",
            "  inflating: images/images/1938.png  \n",
            "  inflating: images/images/1959.png  \n",
            "  inflating: images/images/1963.png  \n",
            "  inflating: images/images/1976.png  \n",
            "  inflating: images/images/1982.png  \n",
            "  inflating: images/images/1983.png  \n",
            "  inflating: images/images/1985.png  \n",
            "  inflating: images/images/1987.png  \n",
            "  inflating: images/images/2000.png  \n",
            "  inflating: images/images/2008.png  \n",
            "  inflating: images/images/2021.png  \n",
            "  inflating: images/images/2027.png  \n",
            "  inflating: images/images/2029.png  \n",
            "  inflating: images/images/2049.png  \n",
            "  inflating: images/images/2073.png  \n",
            "  inflating: images/images/2076.png  \n",
            "  inflating: images/images/2096.png  \n",
            "  inflating: images/images/2121.png  \n",
            "  inflating: images/images/2132.png  \n",
            "  inflating: images/images/2137.png  \n",
            "  inflating: images/images/2143.png  \n",
            "  inflating: images/images/2145.png  \n",
            "  inflating: images/images/2149.png  \n",
            "  inflating: images/images/2165.png  \n",
            "  inflating: images/images/2174.png  \n",
            "  inflating: images/images/2181.png  \n",
            "  inflating: images/images/2185.png  \n",
            "  inflating: images/images/2201.png  \n",
            "  inflating: images/images/2215.png  \n",
            "  inflating: images/images/2220.png  \n",
            "  inflating: images/images/2242.png  \n",
            "  inflating: images/images/2253.png  \n",
            "  inflating: images/images/2271.png  \n",
            "  inflating: images/images/2273.png  \n",
            "  inflating: images/images/2293.png  \n",
            "  inflating: images/images/2294.png  \n",
            "  inflating: images/images/2323.png  \n",
            "  inflating: images/images/2325.png  \n",
            "  inflating: images/images/2332.png  \n",
            "  inflating: images/images/2348.png  \n",
            "  inflating: images/images/2388.png  \n",
            "  inflating: images/images/2392.png  \n",
            "  inflating: images/images/2401.png  \n",
            "  inflating: images/images/2404.png  \n",
            "  inflating: images/images/2436.png  \n",
            "  inflating: images/images/2454.png  \n",
            "  inflating: images/images/2456.png  \n",
            "  inflating: images/images/2458.png  \n",
            "  inflating: images/images/2460.png  \n",
            "  inflating: images/images/2468.png  \n",
            "  inflating: images/images/2471.png  \n",
            "  inflating: images/images/2478.png  \n",
            "  inflating: images/images/2480.png  \n",
            "  inflating: images/images/2495.png  \n",
            "  inflating: images/images/2502.png  \n",
            "  inflating: images/images/2510.png  \n",
            "  inflating: images/images/2555.png  \n",
            "  inflating: images/images/2580.png  \n",
            "  inflating: images/images/2587.png  \n",
            "  inflating: images/images/2592.png  \n",
            "  inflating: images/images/2649.png  \n",
            "  inflating: images/images/2651.png  \n",
            "  inflating: images/images/2657.png  \n",
            "  inflating: images/images/2660.png  \n",
            "  inflating: images/images/2670.png  \n",
            "  inflating: images/images/2683.png  \n",
            "  inflating: images/images/2684.png  \n",
            "  inflating: images/images/2702.png  \n",
            "  inflating: images/images/2711.png  \n",
            "  inflating: images/images/2717.png  \n",
            "  inflating: images/images/2718.png  \n",
            "  inflating: images/images/2724.png  \n",
            "  inflating: images/images/2746.png  \n",
            "  inflating: images/images/2756.png  \n",
            "  inflating: images/images/2760.png  \n",
            "  inflating: images/images/2776.png  \n",
            "  inflating: images/images/2784.png  \n",
            "  inflating: images/images/2805.png  \n",
            "  inflating: images/images/2815.png  \n",
            "  inflating: images/images/2834.png  \n",
            "  inflating: images/images/2835.png  \n",
            "  inflating: images/images/2837.png  \n",
            "  inflating: images/images/2843.png  \n",
            "  inflating: images/images/2851.png  \n",
            "  inflating: images/images/2854.png  \n",
            "  inflating: images/images/2881.png  \n",
            "  inflating: images/images/2885.png  \n",
            "  inflating: images/images/2899.png  \n",
            "  inflating: images/images/2900.png  \n",
            "  inflating: images/images/2905.png  \n",
            "  inflating: images/images/2921.png  \n",
            "  inflating: images/images/2927.png  \n",
            "  inflating: images/images/2937.png  \n",
            "  inflating: images/images/2954.png  \n",
            "  inflating: images/images/2963.png  \n",
            "  inflating: images/images/3020.png  \n",
            "  inflating: images/images/3056.png  \n",
            "  inflating: images/images/3057.png  \n",
            "  inflating: images/images/3062.png  \n",
            "  inflating: images/images/3074.png  \n",
            "  inflating: images/images/3075.png  \n",
            "  inflating: images/images/3083.png  \n",
            "  inflating: images/images/3088.png  \n",
            "  inflating: images/images/3089.png  \n",
            "  inflating: images/images/3105.png  \n",
            "  inflating: images/images/3114.png  \n",
            "  inflating: images/images/3115.png  \n",
            "  inflating: images/images/3127.png  \n",
            "  inflating: images/images/3128.png  \n",
            "  inflating: images/images/3135.png  \n",
            "  inflating: images/images/3161.png  \n",
            "  inflating: images/images/3168.png  \n",
            "  inflating: images/images/3173.png  \n",
            "  inflating: images/images/3176.png  \n",
            "  inflating: images/images/3204.png  \n",
            "  inflating: images/images/3211.png  \n",
            "  inflating: images/images/3244.png  \n",
            "  inflating: images/images/3249.png  \n",
            "  inflating: images/images/3259.png  \n",
            "  inflating: images/images/3269.png  \n",
            "  inflating: images/images/3275.png  \n",
            "  inflating: images/images/3295.png  \n",
            "  inflating: images/images/3296.png  \n",
            "  inflating: images/images/3332.png  \n",
            "  inflating: images/images/3345.png  \n",
            "  inflating: images/images/3347.png  \n",
            "  inflating: images/images/3356.png  \n",
            "  inflating: images/images/3375.png  \n",
            "  inflating: images/images/3381.png  \n",
            "  inflating: images/images/3386.png  \n",
            "  inflating: images/images/3390.png  \n",
            "  inflating: images/images/3391.png  \n",
            "  inflating: images/images/3403.png  \n",
            "  inflating: images/images/3436.png  \n",
            "  inflating: images/images/3448.png  \n",
            "  inflating: images/images/3458.png  \n",
            "  inflating: images/images/3462.png  \n",
            "  inflating: images/images/3478.png  \n",
            "  inflating: images/images/3491.png  \n",
            "  inflating: images/images/3512.png  \n",
            "  inflating: images/images/3529.png  \n",
            "  inflating: images/images/3539.png  \n",
            "  inflating: images/images/3544.png  \n",
            "  inflating: images/images/3551.png  \n",
            "  inflating: images/images/3562.png  \n",
            "  inflating: images/images/3568.png  \n",
            "  inflating: images/images/3585.png  \n",
            "  inflating: images/images/3611.png  \n",
            "  inflating: images/images/3629.png  \n",
            "  inflating: images/images/3649.png  \n",
            "  inflating: images/images/3661.png  \n",
            "  inflating: images/images/3666.png  \n",
            "  inflating: images/images/3670.png  \n",
            "  inflating: images/images/3674.png  \n",
            "  inflating: images/images/3711.png  \n",
            "  inflating: images/images/3749.png  \n",
            "  inflating: images/images/3750.png  \n",
            "  inflating: images/images/3763.png  \n",
            "  inflating: images/images/3783.png  \n",
            "  inflating: images/images/3789.png  \n",
            "  inflating: images/images/3838.png  \n",
            "  inflating: images/images/3866.png  \n",
            "  inflating: images/images/3867.png  \n",
            "  inflating: images/images/3902.png  \n",
            "  inflating: images/images/3914.png  \n",
            "  inflating: images/images/3915.png  \n",
            "  inflating: images/images/3916.png  \n",
            "  inflating: images/images/3919.png  \n",
            "  inflating: images/images/3921.png  \n",
            "  inflating: images/images/3936.png  \n",
            "  inflating: images/images/3937.png  \n",
            "  inflating: images/images/3940.png  \n",
            "  inflating: images/images/3955.png  \n",
            "  inflating: images/images/3964.png  \n",
            "  inflating: images/images/3979.png  \n",
            "  inflating: images/images/3981.png  \n",
            "  inflating: images/images/3984.png  \n",
            "  inflating: images/images/3994.png  \n",
            "  inflating: images/images/3997.png  \n",
            "  inflating: images/images/4041.png  \n",
            "  inflating: images/images/4049.png  \n",
            "  inflating: images/images/4050.png  \n",
            "  inflating: images/images/4056.png  \n",
            "  inflating: images/images/4072.png  \n",
            "  inflating: images/images/4087.png  \n",
            "  inflating: images/images/4100.png  \n",
            "  inflating: images/images/4142.png  \n",
            "  inflating: images/images/4184.png  \n",
            "  inflating: images/images/4212.png  \n",
            "  inflating: images/images/4231.png  \n",
            "  inflating: images/images/4244.png  \n",
            "  inflating: images/images/4253.png  \n",
            "  inflating: images/images/4259.png  \n",
            "  inflating: images/images/4285.png  \n",
            "  inflating: images/images/4303.png  \n",
            "  inflating: images/images/4317.png  \n",
            "  inflating: images/images/4322.png  \n",
            "  inflating: images/images/4332.png  \n",
            "  inflating: images/images/4347.png  \n",
            "  inflating: images/images/4359.png  \n",
            "  inflating: images/images/4360.png  \n",
            "  inflating: images/images/4372.png  \n",
            "  inflating: images/images/4387.png  \n",
            "  inflating: images/images/4396.png  \n",
            "  inflating: images/images/4405.png  \n",
            "  inflating: images/images/4407.png  \n",
            "  inflating: images/images/4412.png  \n",
            "  inflating: images/images/4425.png  \n",
            "  inflating: images/images/4447.png  \n",
            "  inflating: images/images/4499.png  \n",
            "  inflating: images/images/4506.png  \n",
            "  inflating: images/images/4515.png  \n",
            "  inflating: images/images/4519.png  \n",
            "  inflating: images/images/4537.png  \n",
            "  inflating: images/images/4569.png  \n",
            "  inflating: images/images/4573.png  \n",
            "  inflating: images/images/4578.png  \n",
            "  inflating: images/images/4588.png  \n",
            "  inflating: images/images/4591.png  \n",
            "  inflating: images/images/4600.png  \n",
            "  inflating: images/images/4612.png  \n",
            "  inflating: images/images/4629.png  \n",
            "  inflating: images/images/4640.png  \n",
            "  inflating: images/images/4644.png  \n",
            "  inflating: images/images/4649.png  \n",
            "  inflating: images/images/4672.png  \n",
            "  inflating: images/images/4673.png  \n",
            "  inflating: images/images/4680.png  \n",
            "  inflating: images/images/4681.png  \n",
            "  inflating: images/images/4723.png  \n",
            "  inflating: images/images/4740.png  \n",
            "  inflating: images/images/4768.png  \n",
            "  inflating: images/images/4786.png  \n",
            "  inflating: images/images/4796.png  \n",
            "  inflating: images/images/4804.png  \n",
            "  inflating: images/images/4814.png  \n",
            "  inflating: images/images/4818.png  \n",
            "  inflating: images/images/4829.png  \n",
            "  inflating: images/images/4833.png  \n",
            "  inflating: images/images/4857.png  \n",
            "  inflating: images/images/4869.png  \n",
            "  inflating: images/images/4872.png  \n",
            "  inflating: images/images/4883.png  \n",
            "  inflating: images/images/4885.png  \n",
            "  inflating: images/images/4887.png  \n",
            "  inflating: images/images/4888.png  \n",
            "  inflating: images/images/4912.png  \n",
            "  inflating: images/images/4923.png  \n",
            "  inflating: images/images/4928.png  \n",
            "  inflating: images/images/4931.png  \n",
            "  inflating: images/images/4938.png  \n",
            "  inflating: images/images/4947.png  \n",
            "  inflating: images/images/4977.png  \n",
            "  inflating: images/images/4980.png  \n",
            "  inflating: images/images/4994.png  \n",
            "  inflating: images/images/4995.png  \n",
            "  inflating: images/images/5016.png  \n",
            "  inflating: images/images/5019.png  \n",
            "  inflating: images/images/5034.png  \n",
            "  inflating: images/images/5054.png  \n",
            "  inflating: images/images/5065.png  \n",
            "  inflating: images/images/5072.png  \n",
            "  inflating: images/images/5087.png  \n",
            "  inflating: images/images/5120.png  \n",
            "  inflating: images/images/5124.png  \n",
            "  inflating: images/images/5128.png  \n",
            "  inflating: images/images/5135.png  \n",
            "  inflating: images/images/5148.png  \n",
            "  inflating: images/images/5150.png  \n",
            "  inflating: images/images/5153.png  \n",
            "  inflating: images/images/5172.png  \n",
            "  inflating: images/images/5182.png  \n",
            "  inflating: images/images/5184.png  \n",
            "  inflating: images/images/5185.png  \n",
            "  inflating: images/images/5190.png  \n",
            "  inflating: images/images/5193.png  \n",
            "  inflating: images/images/5202.png  \n",
            "  inflating: images/images/5204.png  \n",
            "  inflating: images/images/5205.png  \n",
            "  inflating: images/images/5210.png  \n",
            "  inflating: images/images/5217.png  \n",
            "  inflating: images/images/5225.png  \n",
            "  inflating: images/images/5226.png  \n",
            "  inflating: images/images/5238.png  \n",
            "  inflating: images/images/5251.png  \n",
            "  inflating: images/images/5262.png  \n",
            "  inflating: images/images/5272.png  \n",
            "  inflating: images/images/5275.png  \n",
            "  inflating: images/images/5308.png  \n",
            "  inflating: images/images/5312.png  \n",
            "  inflating: images/images/5323.png  \n",
            "  inflating: images/images/5357.png  \n",
            "  inflating: images/images/5364.png  \n",
            "  inflating: images/images/5366.png  \n",
            "  inflating: images/images/5384.png  \n",
            "  inflating: images/images/5390.png  \n",
            "  inflating: images/images/5392.png  \n",
            "  inflating: images/images/5403.png  \n",
            "  inflating: images/images/5406.png  \n",
            "  inflating: images/images/5407.png  \n",
            "  inflating: images/images/5408.png  \n",
            "  inflating: images/images/5434.png  \n",
            "  inflating: images/images/5435.png  \n",
            "  inflating: images/images/5437.png  \n",
            "  inflating: images/images/5438.png  \n",
            "  inflating: images/images/5440.png  \n",
            "  inflating: images/images/5463.png  \n",
            "  inflating: images/images/5469.png  \n",
            "  inflating: images/images/5482.png  \n",
            "  inflating: images/images/5511.png  \n",
            "  inflating: images/images/5544.png  \n",
            "  inflating: images/images/5547.png  \n",
            "  inflating: images/images/5551.png  \n",
            "  inflating: images/images/5557.png  \n",
            "  inflating: images/images/5558.png  \n",
            "  inflating: images/images/5559.png  \n",
            "  inflating: images/images/5577.png  \n",
            "  inflating: images/images/5594.png  \n",
            "  inflating: images/images/5611.png  \n",
            "  inflating: images/images/5616.png  \n",
            "  inflating: images/images/5621.png  \n",
            "  inflating: images/images/5633.png  \n",
            "  inflating: images/images/5656.png  \n",
            "  inflating: images/images/5666.png  \n",
            "  inflating: images/images/5683.png  \n",
            "  inflating: images/images/5691.png  \n",
            "  inflating: images/images/5708.png  \n",
            "  inflating: images/images/5717.png  \n",
            "  inflating: images/images/5718.png  \n",
            "  inflating: images/images/5730.png  \n",
            "  inflating: images/images/5737.png  \n",
            "  inflating: images/images/5741.png  \n",
            "  inflating: images/images/5754.png  \n",
            "  inflating: images/images/5757.png  \n",
            "  inflating: images/images/5794.png  \n",
            "  inflating: images/images/5801.png  \n",
            "  inflating: images/images/5832.png  \n",
            "  inflating: images/images/5835.png  \n",
            "  inflating: images/images/5844.png  \n",
            "  inflating: images/images/5855.png  \n",
            "  inflating: images/images/5857.png  \n",
            "  inflating: images/images/5866.png  \n",
            "  inflating: images/images/5871.png  \n",
            "  inflating: images/images/5872.png  \n",
            "  inflating: images/images/5921.png  \n",
            "  inflating: images/images/5933.png  \n",
            "  inflating: images/images/5937.png  \n",
            "  inflating: images/images/5942.png  \n",
            "  inflating: images/images/5947.png  \n",
            "  inflating: images/images/5957.png  \n",
            "  inflating: images/images/5960.png  \n",
            "  inflating: images/images/5962.png  \n",
            "  inflating: images/images/5970.png  \n",
            "  inflating: images/images/5972.png  \n",
            "  inflating: images/images/5981.png  \n",
            "  inflating: images/images/5992.png  \n",
            "  inflating: images/images/6027.png  \n",
            "  inflating: images/images/6039.png  \n",
            "  inflating: images/images/6045.png  \n",
            "  inflating: images/images/6048.png  \n",
            "  inflating: images/images/6088.png  \n",
            "  inflating: images/images/6089.png  \n",
            "  inflating: images/images/6092.png  \n",
            "  inflating: images/images/6099.png  \n",
            "  inflating: images/images/6101.png  \n",
            "  inflating: images/images/6102.png  \n",
            "  inflating: images/images/6128.png  \n",
            "  inflating: images/images/6139.png  \n",
            "  inflating: images/images/6148.png  \n",
            "  inflating: images/images/6150.png  \n",
            "  inflating: images/images/6152.png  \n",
            "  inflating: images/images/6197.png  \n",
            "  inflating: images/images/6200.png  \n",
            "  inflating: images/images/6215.png  \n",
            "  inflating: images/images/6230.png  \n",
            "  inflating: images/images/6244.png  \n",
            "  inflating: images/images/6250.png  \n",
            "  inflating: images/images/6258.png  \n",
            "  inflating: images/images/6282.png  \n",
            "  inflating: images/images/6302.png  \n",
            "  inflating: images/images/6353.png  \n",
            "  inflating: images/images/6355.png  \n",
            "  inflating: images/images/6367.png  \n",
            "  inflating: images/images/6392.png  \n",
            "  inflating: images/images/6399.png  \n",
            "  inflating: images/images/6408.png  \n",
            "  inflating: images/images/6414.png  \n",
            "  inflating: images/images/6415.png  \n",
            "  inflating: images/images/6417.png  \n",
            "  inflating: images/images/6418.png  \n",
            "  inflating: images/images/6426.png  \n",
            "  inflating: images/images/6431.png  \n",
            "  inflating: images/images/6450.png  \n",
            "  inflating: images/images/6463.png  \n",
            "  inflating: images/images/6464.png  \n",
            "  inflating: images/images/6477.png  \n",
            "  inflating: images/images/6481.png  \n",
            "  inflating: images/images/6483.png  \n",
            "  inflating: images/images/6485.png  \n",
            "  inflating: images/images/6490.png  \n",
            "  inflating: images/images/6497.png  \n",
            "  inflating: images/images/6499.png  \n",
            "  inflating: images/images/6507.png  \n",
            "  inflating: images/images/6508.png  \n",
            "  inflating: images/images/6523.png  \n",
            "  inflating: images/images/6530.png  \n",
            "  inflating: images/images/6532.png  \n",
            "  inflating: images/images/6539.png  \n",
            "  inflating: images/images/6553.png  \n",
            "  inflating: images/images/6562.png  \n",
            "  inflating: images/images/6568.png  \n",
            "  inflating: images/images/6571.png  \n",
            "  inflating: images/images/6583.png  \n",
            "  inflating: images/images/6620.png  \n",
            "  inflating: images/images/6626.png  \n",
            "  inflating: images/images/6629.png  \n",
            "  inflating: images/images/6671.png  \n",
            "  inflating: images/images/6672.png  \n",
            "  inflating: images/images/6674.png  \n",
            "  inflating: images/images/6689.png  \n",
            "  inflating: images/images/6695.png  \n",
            "  inflating: images/images/6697.png  \n",
            "  inflating: images/images/6705.png  \n",
            "  inflating: images/images/6728.png  \n",
            "  inflating: images/images/6735.png  \n",
            "  inflating: images/images/6736.png  \n",
            "  inflating: images/images/6738.png  \n",
            "  inflating: images/images/6751.png  \n",
            "  inflating: images/images/6780.png  \n",
            "  inflating: images/images/6782.png  \n",
            "  inflating: images/images/6785.png  \n",
            "  inflating: images/images/6801.png  \n",
            "  inflating: images/images/6826.png  \n",
            "  inflating: images/images/6827.png  \n",
            "  inflating: images/images/6835.png  \n",
            "  inflating: images/images/6845.png  \n",
            "  inflating: images/images/6849.png  \n",
            "  inflating: images/images/6905.png  \n",
            "  inflating: images/images/6918.png  \n",
            "  inflating: images/images/6932.png  \n",
            "  inflating: images/images/6944.png  \n",
            "  inflating: images/images/6975.png  \n",
            "  inflating: images/images/6983.png  \n",
            "  inflating: images/images/7004.png  \n",
            "  inflating: images/images/7007.png  \n",
            "  inflating: images/images/7022.png  \n",
            "  inflating: images/images/7033.png  \n",
            "  inflating: images/images/7037.png  \n",
            "  inflating: images/images/7038.png  \n",
            "  inflating: images/images/7048.png  \n",
            "  inflating: images/images/7056.png  \n",
            "  inflating: images/images/7071.png  \n",
            "  inflating: images/images/7073.png  \n",
            "  inflating: images/images/7091.png  \n",
            "  inflating: images/images/7113.png  \n",
            "  inflating: images/images/7121.png  \n",
            "  inflating: images/images/7157.png  \n",
            "  inflating: images/images/7159.png  \n",
            "  inflating: images/images/7160.png  \n",
            "  inflating: images/images/7218.png  \n",
            "  inflating: images/images/7234.png  \n",
            "  inflating: images/images/7235.png  \n",
            "  inflating: images/images/7247.png  \n",
            "  inflating: images/images/7303.png  \n",
            "  inflating: images/images/7305.png  \n",
            "  inflating: images/images/7316.png  \n",
            "  inflating: images/images/7336.png  \n",
            "  inflating: images/images/7346.png  \n",
            "  inflating: images/images/7359.png  \n",
            "  inflating: images/images/7367.png  \n",
            "  inflating: images/images/7373.png  \n",
            "  inflating: images/images/7379.png  \n",
            "  inflating: images/images/7390.png  \n",
            "  inflating: images/images/7393.png  \n",
            "  inflating: images/images/7415.png  \n",
            "  inflating: images/images/7416.png  \n",
            "  inflating: images/images/7421.png  \n",
            "  inflating: images/images/7430.png  \n",
            "  inflating: images/images/7436.png  \n",
            "  inflating: images/images/7444.png  \n",
            "  inflating: images/images/7462.png  \n",
            "  inflating: images/images/7464.png  \n",
            "  inflating: images/images/7484.png  \n",
            "  inflating: images/images/7493.png  \n",
            "  inflating: images/images/7500.png  \n",
            "  inflating: images/images/7525.png  \n",
            "  inflating: images/images/7550.png  \n",
            "  inflating: images/images/7553.png  \n",
            "  inflating: images/images/7577.png  \n",
            "  inflating: images/images/7578.png  \n",
            "  inflating: images/images/7583.png  \n",
            "  inflating: images/images/7585.png  \n",
            "  inflating: images/images/7600.png  \n",
            "  inflating: images/images/7620.png  \n",
            "  inflating: images/images/7622.png  \n",
            "  inflating: images/images/7642.png  \n",
            "  inflating: images/images/7650.png  \n",
            "  inflating: images/images/7651.png  \n",
            "  inflating: images/images/7653.png  \n",
            "  inflating: images/images/7684.png  \n",
            "  inflating: images/images/7688.png  \n",
            "  inflating: images/images/7722.png  \n",
            "  inflating: images/images/7723.png  \n",
            "  inflating: images/images/7744.png  \n",
            "  inflating: images/images/7750.png  \n",
            "  inflating: images/images/7760.png  \n",
            "  inflating: images/images/7767.png  \n",
            "  inflating: images/images/7806.png  \n",
            "  inflating: images/images/7837.png  \n",
            "  inflating: images/images/7855.png  \n",
            "  inflating: images/images/7864.png  \n",
            "  inflating: images/images/7870.png  \n",
            "  inflating: images/images/7885.png  \n",
            "  inflating: images/images/7900.png  \n",
            "  inflating: images/images/7909.png  \n",
            "  inflating: images/images/7920.png  \n",
            "  inflating: images/images/7921.png  \n",
            "  inflating: images/images/7937.png  \n",
            "  inflating: images/images/7939.png  \n",
            "  inflating: images/images/7940.png  \n",
            "  inflating: images/images/7947.png  \n",
            "  inflating: images/images/7949.png  \n",
            "  inflating: images/images/7963.png  \n",
            "  inflating: images/images/7965.png  \n",
            "  inflating: images/images/7971.png  \n",
            "  inflating: images/images/8014.png  \n",
            "  inflating: images/images/8022.png  \n",
            "  inflating: images/images/8025.png  \n",
            "  inflating: images/images/8026.png  \n",
            "  inflating: images/images/8032.png  \n",
            "  inflating: images/images/8054.png  \n",
            "  inflating: images/images/8057.png  \n",
            "  inflating: images/images/8092.png  \n",
            "  inflating: images/images/8126.png  \n",
            "  inflating: images/images/8144.png  \n",
            "  inflating: images/images/8149.png  \n",
            "  inflating: images/images/8176.png  \n",
            "  inflating: images/images/8178.png  \n",
            "  inflating: images/images/8181.png  \n",
            "  inflating: images/images/8184.png  \n",
            "  inflating: images/images/8186.png  \n",
            "  inflating: images/images/8193.png  \n",
            "  inflating: images/images/8205.png  \n",
            "  inflating: images/images/8231.png  \n",
            "  inflating: images/images/8252.png  \n",
            "  inflating: images/images/8269.png  \n",
            "  inflating: images/images/8283.png  \n",
            "  inflating: images/images/8288.png  \n",
            "  inflating: images/images/8306.png  \n",
            "  inflating: images/images/8312.png  \n",
            "  inflating: images/images/8318.png  \n",
            "  inflating: images/images/8343.png  \n",
            "  inflating: images/images/8348.png  \n",
            "  inflating: images/images/8366.png  \n",
            "  inflating: images/images/8397.png  \n",
            "  inflating: images/images/8398.png  \n",
            "  inflating: images/images/8404.png  \n",
            "  inflating: images/images/8427.png  \n",
            "  inflating: images/images/8437.png  \n",
            "  inflating: images/images/8468.png  \n",
            "  inflating: images/images/8476.png  \n",
            "  inflating: images/images/8493.png  \n",
            "  inflating: images/images/8497.png  \n",
            "  inflating: images/images/8499.png  \n",
            "  inflating: images/images/8507.png  \n",
            "  inflating: images/images/8510.png  \n",
            "  inflating: images/images/8521.png  \n",
            "  inflating: images/images/8522.png  \n",
            "  inflating: images/images/8526.png  \n",
            "  inflating: images/images/8529.png  \n",
            "  inflating: images/images/8535.png  \n",
            "  inflating: images/images/8545.png  \n",
            "  inflating: images/images/8546.png  \n",
            "  inflating: images/images/8547.png  \n",
            "  inflating: images/images/8549.png  \n",
            "  inflating: images/images/8557.png  \n",
            "  inflating: images/images/8558.png  \n",
            "  inflating: images/images/8560.png  \n",
            "  inflating: images/images/8576.png  \n",
            "  inflating: images/images/8591.png  \n",
            "  inflating: images/images/8600.png  \n",
            "  inflating: images/images/8602.png  \n",
            "  inflating: images/images/8646.png  \n",
            "  inflating: images/images/8655.png  \n",
            "  inflating: images/images/8657.png  \n",
            "  inflating: images/images/8659.png  \n",
            "  inflating: images/images/8664.png  \n",
            "  inflating: images/images/8678.png  \n",
            "  inflating: images/images/8689.png  \n",
            "  inflating: images/images/8704.png  \n",
            "  inflating: images/images/8709.png  \n",
            "  inflating: images/images/8710.png  \n",
            "  inflating: images/images/8714.png  \n",
            "  inflating: images/images/8733.png  \n",
            "  inflating: images/images/8736.png  \n",
            "  inflating: images/images/8761.png  \n",
            "  inflating: images/images/8769.png  \n",
            "  inflating: images/images/8782.png  \n",
            "  inflating: images/images/8799.png  \n",
            "  inflating: images/images/8848.png  \n",
            "  inflating: images/images/8853.png  \n",
            "  inflating: images/images/8864.png  \n",
            "  inflating: images/images/8908.png  \n",
            "  inflating: images/images/8922.png  \n",
            "  inflating: images/images/8924.png  \n",
            "  inflating: images/images/8927.png  \n",
            "  inflating: images/images/8947.png  \n",
            "  inflating: images/images/8949.png  \n",
            "  inflating: images/images/8972.png  \n",
            "  inflating: images/images/8981.png  \n",
            "  inflating: images/images/8993.png  \n",
            "  inflating: images/images/8996.png  \n",
            "  inflating: images/images/9010.png  \n",
            "  inflating: images/images/9041.png  \n",
            "  inflating: images/images/9046.png  \n",
            "  inflating: images/images/9053.png  \n",
            "  inflating: images/images/9056.png  \n",
            "  inflating: images/images/9089.png  \n",
            "  inflating: images/images/9101.png  \n",
            "  inflating: images/images/9107.png  \n",
            "  inflating: images/images/9116.png  \n",
            "  inflating: images/images/9117.png  \n",
            "  inflating: images/images/9161.png  \n",
            "  inflating: images/images/9168.png  \n",
            "  inflating: images/images/9170.png  \n",
            "  inflating: images/images/9175.png  \n",
            "  inflating: images/images/9179.png  \n",
            "  inflating: images/images/9185.png  \n",
            "  inflating: images/images/9187.png  \n",
            "  inflating: images/images/9190.png  \n",
            "  inflating: images/images/9200.png  \n",
            "  inflating: images/images/9211.png  \n",
            "  inflating: images/images/9228.png  \n",
            "  inflating: images/images/9240.png  \n",
            "  inflating: images/images/9256.png  \n",
            "  inflating: images/images/9262.png  \n",
            "  inflating: images/images/9267.png  \n",
            "  inflating: images/images/9285.png  \n",
            "  inflating: images/images/9312.png  \n",
            "  inflating: images/images/9366.png  \n",
            "  inflating: images/images/9375.png  \n",
            "  inflating: images/images/9419.png  \n",
            "  inflating: images/images/9423.png  \n",
            "  inflating: images/images/9433.png  \n",
            "  inflating: images/images/9436.png  \n",
            "  inflating: images/images/9437.png  \n",
            "  inflating: images/images/9444.png  \n",
            "  inflating: images/images/9445.png  \n",
            "  inflating: images/images/9446.png  \n",
            "  inflating: images/images/9448.png  \n",
            "  inflating: images/images/9450.png  \n",
            "  inflating: images/images/9451.png  \n",
            "  inflating: images/images/9453.png  \n",
            "  inflating: images/images/9506.png  \n",
            "  inflating: images/images/9513.png  \n",
            "  inflating: images/images/9528.png  \n",
            "  inflating: images/images/9538.png  \n",
            "  inflating: images/images/9547.png  \n",
            "  inflating: images/images/9550.png  \n",
            "  inflating: images/images/9564.png  \n",
            "  inflating: images/images/9589.png  \n",
            "  inflating: images/images/9592.png  \n",
            "  inflating: images/images/9618.png  \n",
            "  inflating: images/images/9633.png  \n",
            "  inflating: images/images/9650.png  \n",
            "  inflating: images/images/9653.png  \n",
            "  inflating: images/images/9659.png  \n",
            "  inflating: images/images/9678.png  \n",
            "  inflating: images/images/9681.png  \n",
            "  inflating: images/images/9698.png  \n",
            "  inflating: images/images/9724.png  \n",
            "  inflating: images/images/9729.png  \n",
            "  inflating: images/images/9756.png  \n",
            "  inflating: images/images/9774.png  \n",
            "  inflating: images/images/9806.png  \n",
            "  inflating: images/images/9811.png  \n",
            "  inflating: images/images/9814.png  \n",
            "  inflating: images/images/9820.png  \n",
            "  inflating: images/images/9838.png  \n",
            "  inflating: images/images/9860.png  \n",
            "  inflating: images/images/9885.png  \n",
            "  inflating: images/images/9889.png  \n",
            "  inflating: images/images/9895.png  \n",
            "  inflating: images/images/9912.png  \n",
            "  inflating: images/images/9913.png  \n",
            "  inflating: images/images/9930.png  \n",
            "  inflating: images/images/9937.png  \n",
            "  inflating: images/images/9939.png  \n",
            "  inflating: images/images/9955.png  \n",
            "  inflating: images/images/9958.png  \n",
            "  inflating: images/images/9973.png  \n",
            "  inflating: sample_submition4.csv   \n",
            "  inflating: testset.csv             \n",
            "  inflating: trainset.csv            \n"
          ]
        }
      ]
    },
    {
      "cell_type": "markdown",
      "source": [
        "# **Read image file**"
      ],
      "metadata": {
        "id": "6JIBS6U7lkRl"
      }
    },
    {
      "cell_type": "code",
      "source": [
        "# Load and preprocess training images\n",
        "image_folder   = '/content/images/images/'"
      ],
      "metadata": {
        "id": "USPmVxgEWgYY"
      },
      "execution_count": 5,
      "outputs": []
    },
    {
      "cell_type": "markdown",
      "source": [
        "# **Read CSV file**"
      ],
      "metadata": {
        "id": "sbg6-BhYlpjQ"
      }
    },
    {
      "cell_type": "code",
      "source": [
        "train  = pd.read_csv('trainset.csv')\n",
        "test   = pd.read_csv('testset.csv')"
      ],
      "metadata": {
        "id": "v94shgk3WmmN"
      },
      "execution_count": 7,
      "outputs": []
    },
    {
      "cell_type": "markdown",
      "source": [
        "# **Split train and test**"
      ],
      "metadata": {
        "id": "aMnt8nkylzu3"
      }
    },
    {
      "cell_type": "code",
      "source": [
        "images = os.listdir(image_folder)\n",
        "id_train = dict(zip(train['Id'], train['Class']))"
      ],
      "metadata": {
        "id": "GHbXiVzfX2vj"
      },
      "execution_count": 9,
      "outputs": []
    },
    {
      "cell_type": "code",
      "source": [
        "# create a list for both images and labels\n",
        "images_train = []\n",
        "labels_train = []"
      ],
      "metadata": {
        "id": "ij-LKynBYEql"
      },
      "execution_count": 10,
      "outputs": []
    },
    {
      "cell_type": "code",
      "source": [
        "for index, row in train.iterrows():\n",
        "  im_id = row['Id']\n",
        "  if im_id in id_train :\n",
        "    label = id_train [im_id]\n",
        "    image_path = os.path.join(image_folder, f\"{im_id}.png\")\n",
        "    if os.path.exists(image_path):  # Check if the image file exists\n",
        "        image = cv2.imread(image_path)  # Load the image using cv2\n",
        "\n",
        "        if image is not None:  # Check if the image was loaded successfully\n",
        "            images_train.append(image)\n",
        "            labels_train.append(label)\n",
        "\n",
        "train_data= np.array(images_train)\n",
        "train_label = np.array(labels_train)"
      ],
      "metadata": {
        "id": "2dTH7WI3XLPb",
        "colab": {
          "base_uri": "https://localhost:8080/"
        },
        "outputId": "626cb3fa-912e-4ea4-dbac-8c45da257c3f"
      },
      "execution_count": 11,
      "outputs": [
        {
          "output_type": "stream",
          "name": "stderr",
          "text": [
            "<ipython-input-11-81565cee5824>:13: VisibleDeprecationWarning: Creating an ndarray from ragged nested sequences (which is a list-or-tuple of lists-or-tuples-or ndarrays with different lengths or shapes) is deprecated. If you meant to do this, you must specify 'dtype=object' when creating the ndarray.\n",
            "  train_data= np.array(images_train)\n"
          ]
        }
      ]
    },
    {
      "cell_type": "code",
      "source": [
        "# Get the image IDs from the test CSV\n",
        "test_id = list(test['Id'])"
      ],
      "metadata": {
        "id": "ssxKiMhxYYV_"
      },
      "execution_count": 12,
      "outputs": []
    },
    {
      "cell_type": "code",
      "source": [
        "image_test = []\n",
        "for index, row in test.iterrows():\n",
        "  image_id = row['Id']\n",
        "  if image_id in test_id:\n",
        "    image_path = os.path.join(image_folder, f\"{image_id}.png\")\n",
        "    # Check if the image file exists\n",
        "    if os.path.exists(image_path):\n",
        "      # Load the image using cv2\n",
        "      image = cv2.imread(image_path)\n",
        "      image_test.append(image)\n",
        "\n",
        "test_data = np.array(image_test)"
      ],
      "metadata": {
        "id": "duGyAmvgY2-1",
        "colab": {
          "base_uri": "https://localhost:8080/"
        },
        "outputId": "3fffedb2-f356-4598-ebc6-ade2e5ac0387"
      },
      "execution_count": 13,
      "outputs": [
        {
          "output_type": "stream",
          "name": "stderr",
          "text": [
            "<ipython-input-13-b37ddeeeb83b>:12: VisibleDeprecationWarning: Creating an ndarray from ragged nested sequences (which is a list-or-tuple of lists-or-tuples-or ndarrays with different lengths or shapes) is deprecated. If you meant to do this, you must specify 'dtype=object' when creating the ndarray.\n",
            "  test_data = np.array(image_test)\n"
          ]
        }
      ]
    },
    {
      "cell_type": "markdown",
      "source": [
        "# **Resize the images**"
      ],
      "metadata": {
        "id": "WtYqq9D_a5Ut"
      }
    },
    {
      "cell_type": "code",
      "source": [
        "# train images\n",
        "\n",
        "target_size = (200, 200)  # Replace with your desired target size\n",
        "\n",
        "# Initialize an empty list to store resized images\n",
        "resized_images = []\n",
        "\n",
        "# Loop through each image in X_train and resize\n",
        "for image in train_data:\n",
        "    resized_image = cv2.resize(image, target_size)\n",
        "    resized_images.append(resized_image)\n",
        "\n",
        "# Convert the list of resized images back to a NumPy array\n",
        "resized_train = np.array(resized_images)"
      ],
      "metadata": {
        "id": "17MVIfokazZZ"
      },
      "execution_count": 14,
      "outputs": []
    },
    {
      "cell_type": "code",
      "source": [
        "# test images\n",
        "\n",
        "target_size = (200, 200)  # Replace with your desired target size\n",
        "\n",
        "# Initialize an empty list to store resized images\n",
        "resized_images = []\n",
        "\n",
        "# Loop through each image in X_train and resize\n",
        "for image in test_data:\n",
        "    resized_image = cv2.resize(image, target_size)\n",
        "    resized_images.append(resized_image)\n",
        "\n",
        "# Convert the list of resized images back to a NumPy array\n",
        "resized_test = np.array(resized_images)"
      ],
      "metadata": {
        "id": "wpoZ9BnnbHj4"
      },
      "execution_count": 15,
      "outputs": []
    },
    {
      "cell_type": "code",
      "source": [
        "resized_train.shape, resized_test.shape"
      ],
      "metadata": {
        "colab": {
          "base_uri": "https://localhost:8080/"
        },
        "id": "Ar0G0F7AbbOR",
        "outputId": "cd6e28ca-c0b6-49be-8242-5ec8735caee7"
      },
      "execution_count": 16,
      "outputs": [
        {
          "output_type": "execute_result",
          "data": {
            "text/plain": [
              "((539, 200, 200, 3), (229, 200, 200, 3))"
            ]
          },
          "metadata": {},
          "execution_count": 16
        }
      ]
    },
    {
      "cell_type": "markdown",
      "source": [
        "# **Normalize images**"
      ],
      "metadata": {
        "id": "XfhGXWMfkbI_"
      }
    },
    {
      "cell_type": "code",
      "source": [
        "resized_train = resized_train/255\n",
        "\n",
        "resized_test = resized_test/255"
      ],
      "metadata": {
        "id": "jwmgRcC6kb40"
      },
      "execution_count": 17,
      "outputs": []
    },
    {
      "cell_type": "code",
      "source": [
        "resized_train.shape, resized_test.shape"
      ],
      "metadata": {
        "colab": {
          "base_uri": "https://localhost:8080/"
        },
        "id": "t-EoDIGR4hkh",
        "outputId": "efb0cd43-b3d7-4d64-bb53-51feced728c0"
      },
      "execution_count": 18,
      "outputs": [
        {
          "output_type": "execute_result",
          "data": {
            "text/plain": [
              "((539, 200, 200, 3), (229, 200, 200, 3))"
            ]
          },
          "metadata": {},
          "execution_count": 18
        }
      ]
    },
    {
      "cell_type": "markdown",
      "source": [
        "# ** Feature Extraction**\n",
        "\n",
        "## 1- HOG faetures:"
      ],
      "metadata": {
        "id": "UTUgVL5EmGFq"
      }
    },
    {
      "cell_type": "code",
      "source": [
        "'''# Apply HOG\n",
        "# Set HOG parameters\n",
        "orientations = 9\n",
        "pixels_per_cell = (8, 8)\n",
        "cells_per_block = (2, 2)\n",
        "block_norm = 'L2-Hys'\n",
        "\n",
        "# Initialize lists to store HOG features\n",
        "train_hog_features = []\n",
        "\n",
        "# Loop through training images\n",
        "for image in resized_train:\n",
        "    gray_image = color.rgb2gray(image)\n",
        "    features = hog(gray_image, orientations=orientations, pixels_per_cell=pixels_per_cell,\n",
        "                   cells_per_block=cells_per_block, block_norm=block_norm)\n",
        "    train_hog_features.append(features)\n",
        "\n",
        "X_train_hog = np.array(train_hog_features)'''"
      ],
      "metadata": {
        "id": "xv_Jv4wERGth"
      },
      "execution_count": null,
      "outputs": []
    },
    {
      "cell_type": "code",
      "source": [
        "'''# test\n",
        "\n",
        "# Initialize lists to store HOG features\n",
        "test_hog_features = []\n",
        "\n",
        "# Loop through training images\n",
        "for image in resized_test:\n",
        "    gray_image = color.rgb2gray(image)\n",
        "    features = hog(gray_image, orientations=orientations, pixels_per_cell=pixels_per_cell,\n",
        "                   cells_per_block=cells_per_block, block_norm=block_norm)\n",
        "    test_hog_features.append(features)\n",
        "\n",
        "X_test_hog = np.array(test_hog_features)'''"
      ],
      "metadata": {
        "id": "nXlsBLHxROkg"
      },
      "execution_count": null,
      "outputs": []
    },
    {
      "cell_type": "markdown",
      "source": [
        "## 2- LBP Features:"
      ],
      "metadata": {
        "id": "cFtVN6ezmQCi"
      }
    },
    {
      "cell_type": "code",
      "source": [
        "from skimage.feature import local_binary_pattern\n",
        "from skimage.color import rgb2gray\n",
        "import numpy as np\n",
        "\n",
        "def compute_lbp_features(images):\n",
        "    radius = 1\n",
        "    n_points = 8 * radius\n",
        "    lbp_features = []\n",
        "\n",
        "    for image in images:\n",
        "        gray_image = rgb2gray(image)\n",
        "        lbp_image = local_binary_pattern(gray_image, n_points, radius, method=\"uniform\")\n",
        "        hist, _ = np.histogram(lbp_image.ravel(), bins=np.arange(0, n_points + 3), range=(0, n_points + 2))\n",
        "        hist = hist.astype(\"float\")\n",
        "        hist /= (hist.sum() + 1e-6)  # Normalize the histogram\n",
        "        lbp_features.append(hist)\n",
        "\n",
        "    return np.array(lbp_features)\n",
        "\n",
        "lbp_train_features = compute_lbp_features(resized_train)\n",
        "lbp_test_features = compute_lbp_features(resized_test)"
      ],
      "metadata": {
        "id": "uEapaVFg4ZAD"
      },
      "execution_count": 19,
      "outputs": []
    },
    {
      "cell_type": "code",
      "source": [
        "lbp_train_features.shape, lbp_test_features.shape"
      ],
      "metadata": {
        "colab": {
          "base_uri": "https://localhost:8080/"
        },
        "id": "EYOeSUsLmzri",
        "outputId": "60b71e8d-d541-4cd7-d156-671829a7e8ea"
      },
      "execution_count": 25,
      "outputs": [
        {
          "output_type": "execute_result",
          "data": {
            "text/plain": [
              "((539, 10), (229, 10))"
            ]
          },
          "metadata": {},
          "execution_count": 25
        }
      ]
    },
    {
      "cell_type": "markdown",
      "source": [
        "## Wavelets transforms:"
      ],
      "metadata": {
        "id": "ujsTTw1XmcNk"
      }
    },
    {
      "cell_type": "code",
      "source": [
        "pip install PyWavelets"
      ],
      "metadata": {
        "colab": {
          "base_uri": "https://localhost:8080/"
        },
        "id": "O99Cb1-I5GnD",
        "outputId": "70d80c95-d194-4a5c-9612-f5e0e7c3b1b6"
      },
      "execution_count": 20,
      "outputs": [
        {
          "output_type": "stream",
          "name": "stdout",
          "text": [
            "Requirement already satisfied: PyWavelets in /usr/local/lib/python3.10/dist-packages (1.4.1)\n",
            "Requirement already satisfied: numpy>=1.17.3 in /usr/local/lib/python3.10/dist-packages (from PyWavelets) (1.23.5)\n"
          ]
        }
      ]
    },
    {
      "cell_type": "code",
      "source": [
        "import pywt\n",
        "from skimage.color import rgb2gray\n",
        "import numpy as np\n",
        "\n",
        "def compute_wavelet_features(images):\n",
        "    wavelet_features = []\n",
        "\n",
        "    for image in images:\n",
        "        gray_image = rgb2gray(image)\n",
        "        coeffs = pywt.dwt2(gray_image, \"haar\")  # Apply wavelet transform\n",
        "        cA, (cH, cV, cD) = coeffs\n",
        "        feature_vector = []\n",
        "        for coef in [cA, cH, cV, cD]:\n",
        "            feature_vector.extend(coef.ravel())\n",
        "        wavelet_features.append(feature_vector)\n",
        "\n",
        "    return np.array(wavelet_features)\n",
        "\n",
        "wavelet_train_features = compute_wavelet_features(resized_train)\n",
        "wavelet_test_features = compute_wavelet_features(resized_test)"
      ],
      "metadata": {
        "id": "vY3O7Tn25IJJ"
      },
      "execution_count": 21,
      "outputs": []
    },
    {
      "cell_type": "code",
      "source": [
        "wavelet_train_features.shape, wavelet_test_features.shape"
      ],
      "metadata": {
        "colab": {
          "base_uri": "https://localhost:8080/"
        },
        "id": "G6OWi568mtgd",
        "outputId": "2cd1c366-15a1-43c7-dfd7-aa403fb0fa57"
      },
      "execution_count": 24,
      "outputs": [
        {
          "output_type": "execute_result",
          "data": {
            "text/plain": [
              "((539, 40000), (229, 40000))"
            ]
          },
          "metadata": {},
          "execution_count": 24
        }
      ]
    },
    {
      "cell_type": "markdown",
      "source": [
        "## 4- Flatten pixels:"
      ],
      "metadata": {
        "id": "JFaWDaSwmjKU"
      }
    },
    {
      "cell_type": "code",
      "source": [
        "train_flatten = resized_train.reshape(resized_train.shape[0], -1)\n",
        "test_flatten = resized_test.reshape(resized_test.shape[0], -1)"
      ],
      "metadata": {
        "id": "ij3CHXmDcQYF"
      },
      "execution_count": 22,
      "outputs": []
    },
    {
      "cell_type": "code",
      "source": [
        "train_flatten.shape, test_flatten.shape"
      ],
      "metadata": {
        "colab": {
          "base_uri": "https://localhost:8080/"
        },
        "id": "MPbTUyZOcu6n",
        "outputId": "f0cfbee3-ba2d-4685-a038-e79ce17c9527"
      },
      "execution_count": 23,
      "outputs": [
        {
          "output_type": "execute_result",
          "data": {
            "text/plain": [
              "((539, 120000), (229, 120000))"
            ]
          },
          "metadata": {},
          "execution_count": 23
        }
      ]
    },
    {
      "cell_type": "markdown",
      "source": [
        "# **Concatinate Features**"
      ],
      "metadata": {
        "id": "Gyx-l-asm7S-"
      }
    },
    {
      "cell_type": "code",
      "source": [
        "# train\n",
        "\n",
        "final_train_features = np.concatenate([lbp_train_features, wavelet_train_features, train_flatten], axis=1)\n",
        "\n",
        "# test\n",
        "\n",
        "final_test_features = np.concatenate([lbp_test_features, wavelet_test_features, test_flatten], axis=1)"
      ],
      "metadata": {
        "id": "NzziHOYiRere"
      },
      "execution_count": 26,
      "outputs": []
    },
    {
      "cell_type": "code",
      "source": [
        "# Convert feature list to numpy array\n",
        "train_features = np.array(final_train_features)\n",
        "\n",
        "# Convert feature list to numpy array\n",
        "test_features = np.array(final_test_features)"
      ],
      "metadata": {
        "id": "0D1ZKBNUdLb-"
      },
      "execution_count": 27,
      "outputs": []
    },
    {
      "cell_type": "code",
      "source": [
        "'''ros = RandomOverSampler(random_state=42, sampling_strategy='auto')\n",
        "ros.fit(train_features, train_label)\n",
        "X_resampled, y_resampled = ros.fit_resample(train_features, train_label)'''"
      ],
      "metadata": {
        "id": "8jmeOoEqUiM5"
      },
      "execution_count": 26,
      "outputs": []
    },
    {
      "cell_type": "code",
      "source": [
        "'''from imblearn.over_sampling import SMOTE\n",
        "\n",
        "smote = SMOTE(random_state=42,k_neighbors=2,  sampling_strategy='auto')\n",
        "smote.fit(train_features, train_label)\n",
        "X_resampled, y_resampled = smote.fit_resample(train_features, train_label)'''\n"
      ],
      "metadata": {
        "colab": {
          "base_uri": "https://localhost:8080/",
          "height": 53
        },
        "id": "B7w2sqvmHp2V",
        "outputId": "0d6a427d-31ac-4cd9-e19c-62777b078e1b"
      },
      "execution_count": null,
      "outputs": [
        {
          "output_type": "execute_result",
          "data": {
            "text/plain": [
              "\"from imblearn.over_sampling import SMOTE\\n\\nsmote = SMOTE(random_state=42,k_neighbors=2,  sampling_strategy='auto')\\nsmote.fit(train_features, train_label)\\nX_resampled, y_resampled = smote.fit_resample(train_features, train_label)\""
            ],
            "application/vnd.google.colaboratory.intrinsic+json": {
              "type": "string"
            }
          },
          "metadata": {},
          "execution_count": 136
        }
      ]
    },
    {
      "cell_type": "markdown",
      "source": [
        "# **Split Train and validation**"
      ],
      "metadata": {
        "id": "ISlnzEznnEl2"
      }
    },
    {
      "cell_type": "code",
      "source": [
        "# Split data into train and test sets\n",
        "X_train, X_test, y_train, y_test = train_test_split(train_features,train_label  , test_size=0.2, random_state=42)"
      ],
      "metadata": {
        "id": "ApBu4PKSd2XN"
      },
      "execution_count": 28,
      "outputs": []
    },
    {
      "cell_type": "code",
      "source": [
        "X_train.shape, X_test.shape, y_train.shape, y_test.shape"
      ],
      "metadata": {
        "colab": {
          "base_uri": "https://localhost:8080/"
        },
        "id": "POWIYUVjeZxB",
        "outputId": "f87e3d97-2815-4cba-e06f-3ad0c6c257d2"
      },
      "execution_count": 29,
      "outputs": [
        {
          "output_type": "execute_result",
          "data": {
            "text/plain": [
              "((431, 160010), (108, 160010), (431,), (108,))"
            ]
          },
          "metadata": {},
          "execution_count": 29
        }
      ]
    },
    {
      "cell_type": "markdown",
      "source": [
        "## **Over resampling**"
      ],
      "metadata": {
        "id": "fwUiObqknNmw"
      }
    },
    {
      "cell_type": "code",
      "source": [
        "ros = RandomOverSampler(random_state=42, sampling_strategy='auto')\n",
        "ros.fit(X_train, y_train)\n",
        "X_resampled, y_resampled = ros.fit_resample(train_features, train_label)"
      ],
      "metadata": {
        "id": "cL3ROCw8hTM4"
      },
      "execution_count": 30,
      "outputs": []
    },
    {
      "cell_type": "code",
      "source": [
        "X_resampled.shape, y_resampled.shape"
      ],
      "metadata": {
        "colab": {
          "base_uri": "https://localhost:8080/"
        },
        "id": "cL7FNMcRnftD",
        "outputId": "56b77677-ca8d-4887-9ee0-f43c6c82d780"
      },
      "execution_count": 32,
      "outputs": [
        {
          "output_type": "execute_result",
          "data": {
            "text/plain": [
              "((900, 160010), (900,))"
            ]
          },
          "metadata": {},
          "execution_count": 32
        }
      ]
    },
    {
      "cell_type": "markdown",
      "source": [
        "# **Dimensionality Reduction using PCA**"
      ],
      "metadata": {
        "id": "vah7K8gxnWAS"
      }
    },
    {
      "cell_type": "code",
      "source": [
        "pca = PCA(n_components=150 )  # You can adjust the number of components\n",
        "X_train_pca = pca.fit_transform(X_resampled)\n",
        "X_val_pca = pca.transform(X_test)\n"
      ],
      "metadata": {
        "id": "xl5hNoJKdiSz"
      },
      "execution_count": 31,
      "outputs": []
    },
    {
      "cell_type": "code",
      "source": [
        "X_train_pca.shape, X_val_pca.shape"
      ],
      "metadata": {
        "colab": {
          "base_uri": "https://localhost:8080/"
        },
        "id": "s2j2Ry_temqU",
        "outputId": "c9d81a98-ea4c-44ea-911d-0ee2bc512adf"
      },
      "execution_count": 33,
      "outputs": [
        {
          "output_type": "execute_result",
          "data": {
            "text/plain": [
              "((900, 150), (108, 150))"
            ]
          },
          "metadata": {},
          "execution_count": 33
        }
      ]
    },
    {
      "cell_type": "markdown",
      "source": [
        "# **Modeling**"
      ],
      "metadata": {
        "id": "XLJSt62KexP0"
      }
    },
    {
      "cell_type": "code",
      "source": [
        "svm_classifier = SVC(kernel='rbf', C=3, gamma=0.001)\n",
        "svm_classifier.fit(X_train_pca, y_resampled)\n",
        "\n",
        "# Make predictions\n",
        "y_pred1 = svm_classifier.predict(X_train_pca)\n",
        "y_pred2 = svm_classifier.predict(X_val_pca)\n",
        "\n",
        "\n",
        "accuracy2 = accuracy_score(y_test, y_pred2)\n",
        "\n",
        "\n",
        "print(\"Accuracy2:\", accuracy2)\n",
        "\n",
        "# Calculate confusion matrix\n",
        "conf_matrix2 = confusion_matrix(y_test, y_pred2)\n",
        "print(\"Confusion Matrix1:\\n\", conf_matrix2)\n",
        "\n",
        "# Generate classification report\n",
        "class_report2 = classification_report(y_test, y_pred2)\n",
        "print(\"Classification Report:\\n\", class_report2)"
      ],
      "metadata": {
        "colab": {
          "base_uri": "https://localhost:8080/"
        },
        "id": "6ZwBMGhHeuiS",
        "outputId": "4ec1f952-5fb7-4212-ed48-baf562761f0b"
      },
      "execution_count": 49,
      "outputs": [
        {
          "output_type": "stream",
          "name": "stdout",
          "text": [
            "Accuracy2: 0.9907407407407407\n",
            "Confusion Matrix1:\n",
            " [[56  0  1]\n",
            " [ 0 30  0]\n",
            " [ 0  0 21]]\n",
            "Classification Report:\n",
            "               precision    recall  f1-score   support\n",
            "\n",
            "      Benign       1.00      0.98      0.99        57\n",
            "   Malignant       1.00      1.00      1.00        30\n",
            "      Normal       0.95      1.00      0.98        21\n",
            "\n",
            "    accuracy                           0.99       108\n",
            "   macro avg       0.98      0.99      0.99       108\n",
            "weighted avg       0.99      0.99      0.99       108\n",
            "\n"
          ]
        }
      ]
    },
    {
      "cell_type": "markdown",
      "source": [
        "# **Test Prediction**"
      ],
      "metadata": {
        "id": "T3NaB8Nrnwmy"
      }
    },
    {
      "cell_type": "code",
      "source": [
        "X_test_pca = pca.transform(test_features)\n",
        "predictions = svm_classifier.predict(X_test_pca)"
      ],
      "metadata": {
        "id": "E7sj4UpUgu_Z"
      },
      "execution_count": 35,
      "outputs": []
    },
    {
      "cell_type": "code",
      "source": [
        "test['labels'] =predictions\n",
        "test['labels'].value_counts()"
      ],
      "metadata": {
        "colab": {
          "base_uri": "https://localhost:8080/"
        },
        "id": "RthDI0EHg9FM",
        "outputId": "7f7ec667-efd1-48de-e709-e141342775b8"
      },
      "execution_count": 36,
      "outputs": [
        {
          "output_type": "execute_result",
          "data": {
            "text/plain": [
              "Benign       163\n",
              "Malignant     44\n",
              "Normal        22\n",
              "Name: labels, dtype: int64"
            ]
          },
          "metadata": {},
          "execution_count": 36
        }
      ]
    },
    {
      "cell_type": "code",
      "source": [
        "submit = pd.read_csv('/content/sample_submition4.csv')\n",
        "submit"
      ],
      "metadata": {
        "colab": {
          "base_uri": "https://localhost:8080/",
          "height": 424
        },
        "id": "-qdUavqwhDEH",
        "outputId": "56088984-b9ab-4abf-f551-3d62c9a67ddf"
      },
      "execution_count": 37,
      "outputs": [
        {
          "output_type": "execute_result",
          "data": {
            "text/plain": [
              "       Id Class\n",
              "0    8560     A\n",
              "1    7920     A\n",
              "2    8993     A\n",
              "3    8126     A\n",
              "4    9912     A\n",
              "..    ...   ...\n",
              "224  8343     A\n",
              "225  1255     A\n",
              "226  4573     A\n",
              "227  3919     A\n",
              "228  3249     A\n",
              "\n",
              "[229 rows x 2 columns]"
            ],
            "text/html": [
              "\n",
              "  <div id=\"df-97cc462e-f502-4fa0-8fd6-881a0d99cbf7\" class=\"colab-df-container\">\n",
              "    <div>\n",
              "<style scoped>\n",
              "    .dataframe tbody tr th:only-of-type {\n",
              "        vertical-align: middle;\n",
              "    }\n",
              "\n",
              "    .dataframe tbody tr th {\n",
              "        vertical-align: top;\n",
              "    }\n",
              "\n",
              "    .dataframe thead th {\n",
              "        text-align: right;\n",
              "    }\n",
              "</style>\n",
              "<table border=\"1\" class=\"dataframe\">\n",
              "  <thead>\n",
              "    <tr style=\"text-align: right;\">\n",
              "      <th></th>\n",
              "      <th>Id</th>\n",
              "      <th>Class</th>\n",
              "    </tr>\n",
              "  </thead>\n",
              "  <tbody>\n",
              "    <tr>\n",
              "      <th>0</th>\n",
              "      <td>8560</td>\n",
              "      <td>A</td>\n",
              "    </tr>\n",
              "    <tr>\n",
              "      <th>1</th>\n",
              "      <td>7920</td>\n",
              "      <td>A</td>\n",
              "    </tr>\n",
              "    <tr>\n",
              "      <th>2</th>\n",
              "      <td>8993</td>\n",
              "      <td>A</td>\n",
              "    </tr>\n",
              "    <tr>\n",
              "      <th>3</th>\n",
              "      <td>8126</td>\n",
              "      <td>A</td>\n",
              "    </tr>\n",
              "    <tr>\n",
              "      <th>4</th>\n",
              "      <td>9912</td>\n",
              "      <td>A</td>\n",
              "    </tr>\n",
              "    <tr>\n",
              "      <th>...</th>\n",
              "      <td>...</td>\n",
              "      <td>...</td>\n",
              "    </tr>\n",
              "    <tr>\n",
              "      <th>224</th>\n",
              "      <td>8343</td>\n",
              "      <td>A</td>\n",
              "    </tr>\n",
              "    <tr>\n",
              "      <th>225</th>\n",
              "      <td>1255</td>\n",
              "      <td>A</td>\n",
              "    </tr>\n",
              "    <tr>\n",
              "      <th>226</th>\n",
              "      <td>4573</td>\n",
              "      <td>A</td>\n",
              "    </tr>\n",
              "    <tr>\n",
              "      <th>227</th>\n",
              "      <td>3919</td>\n",
              "      <td>A</td>\n",
              "    </tr>\n",
              "    <tr>\n",
              "      <th>228</th>\n",
              "      <td>3249</td>\n",
              "      <td>A</td>\n",
              "    </tr>\n",
              "  </tbody>\n",
              "</table>\n",
              "<p>229 rows × 2 columns</p>\n",
              "</div>\n",
              "    <div class=\"colab-df-buttons\">\n",
              "\n",
              "  <div class=\"colab-df-container\">\n",
              "    <button class=\"colab-df-convert\" onclick=\"convertToInteractive('df-97cc462e-f502-4fa0-8fd6-881a0d99cbf7')\"\n",
              "            title=\"Convert this dataframe to an interactive table.\"\n",
              "            style=\"display:none;\">\n",
              "\n",
              "  <svg xmlns=\"http://www.w3.org/2000/svg\" height=\"24px\" viewBox=\"0 -960 960 960\">\n",
              "    <path d=\"M120-120v-720h720v720H120Zm60-500h600v-160H180v160Zm220 220h160v-160H400v160Zm0 220h160v-160H400v160ZM180-400h160v-160H180v160Zm440 0h160v-160H620v160ZM180-180h160v-160H180v160Zm440 0h160v-160H620v160Z\"/>\n",
              "  </svg>\n",
              "    </button>\n",
              "\n",
              "  <style>\n",
              "    .colab-df-container {\n",
              "      display:flex;\n",
              "      gap: 12px;\n",
              "    }\n",
              "\n",
              "    .colab-df-convert {\n",
              "      background-color: #E8F0FE;\n",
              "      border: none;\n",
              "      border-radius: 50%;\n",
              "      cursor: pointer;\n",
              "      display: none;\n",
              "      fill: #1967D2;\n",
              "      height: 32px;\n",
              "      padding: 0 0 0 0;\n",
              "      width: 32px;\n",
              "    }\n",
              "\n",
              "    .colab-df-convert:hover {\n",
              "      background-color: #E2EBFA;\n",
              "      box-shadow: 0px 1px 2px rgba(60, 64, 67, 0.3), 0px 1px 3px 1px rgba(60, 64, 67, 0.15);\n",
              "      fill: #174EA6;\n",
              "    }\n",
              "\n",
              "    .colab-df-buttons div {\n",
              "      margin-bottom: 4px;\n",
              "    }\n",
              "\n",
              "    [theme=dark] .colab-df-convert {\n",
              "      background-color: #3B4455;\n",
              "      fill: #D2E3FC;\n",
              "    }\n",
              "\n",
              "    [theme=dark] .colab-df-convert:hover {\n",
              "      background-color: #434B5C;\n",
              "      box-shadow: 0px 1px 3px 1px rgba(0, 0, 0, 0.15);\n",
              "      filter: drop-shadow(0px 1px 2px rgba(0, 0, 0, 0.3));\n",
              "      fill: #FFFFFF;\n",
              "    }\n",
              "  </style>\n",
              "\n",
              "    <script>\n",
              "      const buttonEl =\n",
              "        document.querySelector('#df-97cc462e-f502-4fa0-8fd6-881a0d99cbf7 button.colab-df-convert');\n",
              "      buttonEl.style.display =\n",
              "        google.colab.kernel.accessAllowed ? 'block' : 'none';\n",
              "\n",
              "      async function convertToInteractive(key) {\n",
              "        const element = document.querySelector('#df-97cc462e-f502-4fa0-8fd6-881a0d99cbf7');\n",
              "        const dataTable =\n",
              "          await google.colab.kernel.invokeFunction('convertToInteractive',\n",
              "                                                    [key], {});\n",
              "        if (!dataTable) return;\n",
              "\n",
              "        const docLinkHtml = 'Like what you see? Visit the ' +\n",
              "          '<a target=\"_blank\" href=https://colab.research.google.com/notebooks/data_table.ipynb>data table notebook</a>'\n",
              "          + ' to learn more about interactive tables.';\n",
              "        element.innerHTML = '';\n",
              "        dataTable['output_type'] = 'display_data';\n",
              "        await google.colab.output.renderOutput(dataTable, element);\n",
              "        const docLink = document.createElement('div');\n",
              "        docLink.innerHTML = docLinkHtml;\n",
              "        element.appendChild(docLink);\n",
              "      }\n",
              "    </script>\n",
              "  </div>\n",
              "\n",
              "\n",
              "<div id=\"df-6603bdbf-1539-4b9d-a951-094635297987\">\n",
              "  <button class=\"colab-df-quickchart\" onclick=\"quickchart('df-6603bdbf-1539-4b9d-a951-094635297987')\"\n",
              "            title=\"Suggest charts.\"\n",
              "            style=\"display:none;\">\n",
              "\n",
              "<svg xmlns=\"http://www.w3.org/2000/svg\" height=\"24px\"viewBox=\"0 0 24 24\"\n",
              "     width=\"24px\">\n",
              "    <g>\n",
              "        <path d=\"M19 3H5c-1.1 0-2 .9-2 2v14c0 1.1.9 2 2 2h14c1.1 0 2-.9 2-2V5c0-1.1-.9-2-2-2zM9 17H7v-7h2v7zm4 0h-2V7h2v10zm4 0h-2v-4h2v4z\"/>\n",
              "    </g>\n",
              "</svg>\n",
              "  </button>\n",
              "\n",
              "<style>\n",
              "  .colab-df-quickchart {\n",
              "    background-color: #E8F0FE;\n",
              "    border: none;\n",
              "    border-radius: 50%;\n",
              "    cursor: pointer;\n",
              "    display: none;\n",
              "    fill: #1967D2;\n",
              "    height: 32px;\n",
              "    padding: 0 0 0 0;\n",
              "    width: 32px;\n",
              "  }\n",
              "\n",
              "  .colab-df-quickchart:hover {\n",
              "    background-color: #E2EBFA;\n",
              "    box-shadow: 0px 1px 2px rgba(60, 64, 67, 0.3), 0px 1px 3px 1px rgba(60, 64, 67, 0.15);\n",
              "    fill: #174EA6;\n",
              "  }\n",
              "\n",
              "  [theme=dark] .colab-df-quickchart {\n",
              "    background-color: #3B4455;\n",
              "    fill: #D2E3FC;\n",
              "  }\n",
              "\n",
              "  [theme=dark] .colab-df-quickchart:hover {\n",
              "    background-color: #434B5C;\n",
              "    box-shadow: 0px 1px 3px 1px rgba(0, 0, 0, 0.15);\n",
              "    filter: drop-shadow(0px 1px 2px rgba(0, 0, 0, 0.3));\n",
              "    fill: #FFFFFF;\n",
              "  }\n",
              "</style>\n",
              "\n",
              "  <script>\n",
              "    async function quickchart(key) {\n",
              "      const charts = await google.colab.kernel.invokeFunction(\n",
              "          'suggestCharts', [key], {});\n",
              "    }\n",
              "    (() => {\n",
              "      let quickchartButtonEl =\n",
              "        document.querySelector('#df-6603bdbf-1539-4b9d-a951-094635297987 button');\n",
              "      quickchartButtonEl.style.display =\n",
              "        google.colab.kernel.accessAllowed ? 'block' : 'none';\n",
              "    })();\n",
              "  </script>\n",
              "</div>\n",
              "    </div>\n",
              "  </div>\n"
            ]
          },
          "metadata": {},
          "execution_count": 37
        }
      ]
    },
    {
      "cell_type": "code",
      "source": [
        "submit['Id'] = test['Id']\n",
        "submit['Class'] =predictions # our model predictions on the test dataset\n",
        "submit"
      ],
      "metadata": {
        "colab": {
          "base_uri": "https://localhost:8080/",
          "height": 424
        },
        "id": "kDCifPalhGBt",
        "outputId": "c96eb4f2-45e2-40f4-9bc1-68b3ff1f6973"
      },
      "execution_count": 38,
      "outputs": [
        {
          "output_type": "execute_result",
          "data": {
            "text/plain": [
              "       Id      Class\n",
              "0    8560     Benign\n",
              "1    7920     Benign\n",
              "2    8993     Benign\n",
              "3    8126     Normal\n",
              "4    9912     Benign\n",
              "..    ...        ...\n",
              "224  8343  Malignant\n",
              "225  1255     Benign\n",
              "226  4573     Benign\n",
              "227  3919     Benign\n",
              "228  3249     Benign\n",
              "\n",
              "[229 rows x 2 columns]"
            ],
            "text/html": [
              "\n",
              "  <div id=\"df-c5ec8650-a50e-4a3b-86a0-d7fa54c569e0\" class=\"colab-df-container\">\n",
              "    <div>\n",
              "<style scoped>\n",
              "    .dataframe tbody tr th:only-of-type {\n",
              "        vertical-align: middle;\n",
              "    }\n",
              "\n",
              "    .dataframe tbody tr th {\n",
              "        vertical-align: top;\n",
              "    }\n",
              "\n",
              "    .dataframe thead th {\n",
              "        text-align: right;\n",
              "    }\n",
              "</style>\n",
              "<table border=\"1\" class=\"dataframe\">\n",
              "  <thead>\n",
              "    <tr style=\"text-align: right;\">\n",
              "      <th></th>\n",
              "      <th>Id</th>\n",
              "      <th>Class</th>\n",
              "    </tr>\n",
              "  </thead>\n",
              "  <tbody>\n",
              "    <tr>\n",
              "      <th>0</th>\n",
              "      <td>8560</td>\n",
              "      <td>Benign</td>\n",
              "    </tr>\n",
              "    <tr>\n",
              "      <th>1</th>\n",
              "      <td>7920</td>\n",
              "      <td>Benign</td>\n",
              "    </tr>\n",
              "    <tr>\n",
              "      <th>2</th>\n",
              "      <td>8993</td>\n",
              "      <td>Benign</td>\n",
              "    </tr>\n",
              "    <tr>\n",
              "      <th>3</th>\n",
              "      <td>8126</td>\n",
              "      <td>Normal</td>\n",
              "    </tr>\n",
              "    <tr>\n",
              "      <th>4</th>\n",
              "      <td>9912</td>\n",
              "      <td>Benign</td>\n",
              "    </tr>\n",
              "    <tr>\n",
              "      <th>...</th>\n",
              "      <td>...</td>\n",
              "      <td>...</td>\n",
              "    </tr>\n",
              "    <tr>\n",
              "      <th>224</th>\n",
              "      <td>8343</td>\n",
              "      <td>Malignant</td>\n",
              "    </tr>\n",
              "    <tr>\n",
              "      <th>225</th>\n",
              "      <td>1255</td>\n",
              "      <td>Benign</td>\n",
              "    </tr>\n",
              "    <tr>\n",
              "      <th>226</th>\n",
              "      <td>4573</td>\n",
              "      <td>Benign</td>\n",
              "    </tr>\n",
              "    <tr>\n",
              "      <th>227</th>\n",
              "      <td>3919</td>\n",
              "      <td>Benign</td>\n",
              "    </tr>\n",
              "    <tr>\n",
              "      <th>228</th>\n",
              "      <td>3249</td>\n",
              "      <td>Benign</td>\n",
              "    </tr>\n",
              "  </tbody>\n",
              "</table>\n",
              "<p>229 rows × 2 columns</p>\n",
              "</div>\n",
              "    <div class=\"colab-df-buttons\">\n",
              "\n",
              "  <div class=\"colab-df-container\">\n",
              "    <button class=\"colab-df-convert\" onclick=\"convertToInteractive('df-c5ec8650-a50e-4a3b-86a0-d7fa54c569e0')\"\n",
              "            title=\"Convert this dataframe to an interactive table.\"\n",
              "            style=\"display:none;\">\n",
              "\n",
              "  <svg xmlns=\"http://www.w3.org/2000/svg\" height=\"24px\" viewBox=\"0 -960 960 960\">\n",
              "    <path d=\"M120-120v-720h720v720H120Zm60-500h600v-160H180v160Zm220 220h160v-160H400v160Zm0 220h160v-160H400v160ZM180-400h160v-160H180v160Zm440 0h160v-160H620v160ZM180-180h160v-160H180v160Zm440 0h160v-160H620v160Z\"/>\n",
              "  </svg>\n",
              "    </button>\n",
              "\n",
              "  <style>\n",
              "    .colab-df-container {\n",
              "      display:flex;\n",
              "      gap: 12px;\n",
              "    }\n",
              "\n",
              "    .colab-df-convert {\n",
              "      background-color: #E8F0FE;\n",
              "      border: none;\n",
              "      border-radius: 50%;\n",
              "      cursor: pointer;\n",
              "      display: none;\n",
              "      fill: #1967D2;\n",
              "      height: 32px;\n",
              "      padding: 0 0 0 0;\n",
              "      width: 32px;\n",
              "    }\n",
              "\n",
              "    .colab-df-convert:hover {\n",
              "      background-color: #E2EBFA;\n",
              "      box-shadow: 0px 1px 2px rgba(60, 64, 67, 0.3), 0px 1px 3px 1px rgba(60, 64, 67, 0.15);\n",
              "      fill: #174EA6;\n",
              "    }\n",
              "\n",
              "    .colab-df-buttons div {\n",
              "      margin-bottom: 4px;\n",
              "    }\n",
              "\n",
              "    [theme=dark] .colab-df-convert {\n",
              "      background-color: #3B4455;\n",
              "      fill: #D2E3FC;\n",
              "    }\n",
              "\n",
              "    [theme=dark] .colab-df-convert:hover {\n",
              "      background-color: #434B5C;\n",
              "      box-shadow: 0px 1px 3px 1px rgba(0, 0, 0, 0.15);\n",
              "      filter: drop-shadow(0px 1px 2px rgba(0, 0, 0, 0.3));\n",
              "      fill: #FFFFFF;\n",
              "    }\n",
              "  </style>\n",
              "\n",
              "    <script>\n",
              "      const buttonEl =\n",
              "        document.querySelector('#df-c5ec8650-a50e-4a3b-86a0-d7fa54c569e0 button.colab-df-convert');\n",
              "      buttonEl.style.display =\n",
              "        google.colab.kernel.accessAllowed ? 'block' : 'none';\n",
              "\n",
              "      async function convertToInteractive(key) {\n",
              "        const element = document.querySelector('#df-c5ec8650-a50e-4a3b-86a0-d7fa54c569e0');\n",
              "        const dataTable =\n",
              "          await google.colab.kernel.invokeFunction('convertToInteractive',\n",
              "                                                    [key], {});\n",
              "        if (!dataTable) return;\n",
              "\n",
              "        const docLinkHtml = 'Like what you see? Visit the ' +\n",
              "          '<a target=\"_blank\" href=https://colab.research.google.com/notebooks/data_table.ipynb>data table notebook</a>'\n",
              "          + ' to learn more about interactive tables.';\n",
              "        element.innerHTML = '';\n",
              "        dataTable['output_type'] = 'display_data';\n",
              "        await google.colab.output.renderOutput(dataTable, element);\n",
              "        const docLink = document.createElement('div');\n",
              "        docLink.innerHTML = docLinkHtml;\n",
              "        element.appendChild(docLink);\n",
              "      }\n",
              "    </script>\n",
              "  </div>\n",
              "\n",
              "\n",
              "<div id=\"df-57cd292c-89b0-46fc-b725-667a82eb8bb2\">\n",
              "  <button class=\"colab-df-quickchart\" onclick=\"quickchart('df-57cd292c-89b0-46fc-b725-667a82eb8bb2')\"\n",
              "            title=\"Suggest charts.\"\n",
              "            style=\"display:none;\">\n",
              "\n",
              "<svg xmlns=\"http://www.w3.org/2000/svg\" height=\"24px\"viewBox=\"0 0 24 24\"\n",
              "     width=\"24px\">\n",
              "    <g>\n",
              "        <path d=\"M19 3H5c-1.1 0-2 .9-2 2v14c0 1.1.9 2 2 2h14c1.1 0 2-.9 2-2V5c0-1.1-.9-2-2-2zM9 17H7v-7h2v7zm4 0h-2V7h2v10zm4 0h-2v-4h2v4z\"/>\n",
              "    </g>\n",
              "</svg>\n",
              "  </button>\n",
              "\n",
              "<style>\n",
              "  .colab-df-quickchart {\n",
              "    background-color: #E8F0FE;\n",
              "    border: none;\n",
              "    border-radius: 50%;\n",
              "    cursor: pointer;\n",
              "    display: none;\n",
              "    fill: #1967D2;\n",
              "    height: 32px;\n",
              "    padding: 0 0 0 0;\n",
              "    width: 32px;\n",
              "  }\n",
              "\n",
              "  .colab-df-quickchart:hover {\n",
              "    background-color: #E2EBFA;\n",
              "    box-shadow: 0px 1px 2px rgba(60, 64, 67, 0.3), 0px 1px 3px 1px rgba(60, 64, 67, 0.15);\n",
              "    fill: #174EA6;\n",
              "  }\n",
              "\n",
              "  [theme=dark] .colab-df-quickchart {\n",
              "    background-color: #3B4455;\n",
              "    fill: #D2E3FC;\n",
              "  }\n",
              "\n",
              "  [theme=dark] .colab-df-quickchart:hover {\n",
              "    background-color: #434B5C;\n",
              "    box-shadow: 0px 1px 3px 1px rgba(0, 0, 0, 0.15);\n",
              "    filter: drop-shadow(0px 1px 2px rgba(0, 0, 0, 0.3));\n",
              "    fill: #FFFFFF;\n",
              "  }\n",
              "</style>\n",
              "\n",
              "  <script>\n",
              "    async function quickchart(key) {\n",
              "      const charts = await google.colab.kernel.invokeFunction(\n",
              "          'suggestCharts', [key], {});\n",
              "    }\n",
              "    (() => {\n",
              "      let quickchartButtonEl =\n",
              "        document.querySelector('#df-57cd292c-89b0-46fc-b725-667a82eb8bb2 button');\n",
              "      quickchartButtonEl.style.display =\n",
              "        google.colab.kernel.accessAllowed ? 'block' : 'none';\n",
              "    })();\n",
              "  </script>\n",
              "</div>\n",
              "    </div>\n",
              "  </div>\n"
            ]
          },
          "metadata": {},
          "execution_count": 38
        }
      ]
    },
    {
      "cell_type": "code",
      "source": [
        "submit.to_csv('sample_submission_fatima9.csv', index=False)"
      ],
      "metadata": {
        "id": "PTuTP8ymhLn7"
      },
      "execution_count": 39,
      "outputs": []
    },
    {
      "cell_type": "markdown",
      "source": [
        "# **Other Models**"
      ],
      "metadata": {
        "id": "RQ2K3pXvmEp4"
      }
    },
    {
      "cell_type": "markdown",
      "source": [
        "## KNN"
      ],
      "metadata": {
        "id": "V4kMz7wEmJre"
      }
    },
    {
      "cell_type": "code",
      "source": [
        "from sklearn.neighbors import KNeighborsClassifier\n",
        "\n",
        "\n",
        "\n",
        "# Create a k-NN classifier\n",
        "knn_classifier = KNeighborsClassifier(n_neighbors=2)  # You can adjust the number of neighbors\n",
        "\n",
        "# Assuming you have X_train_pca, y_train, X_val_pca, y_val\n",
        "# Train the k-NN classifier\n",
        "knn_classifier.fit(X_train_pca, y_resampled)\n",
        "\n",
        "\n",
        "# Make predictions\n",
        "y_pred1 = knn_classifier.predict(X_train_pca)\n",
        "y_pred2 = knn_classifier.predict(X_val_pca)\n",
        "\n",
        "\n",
        "accuracy2 = accuracy_score(y_test, y_pred2)\n",
        "\n",
        "\n",
        "print(\"Accuracy2:\", accuracy2)\n",
        "\n",
        "# Calculate confusion matrix\n",
        "conf_matrix2 = confusion_matrix(y_test, y_pred2)\n",
        "print(\"Confusion Matrix1:\\n\", conf_matrix2)\n",
        "\n",
        "# Generate classification report\n",
        "class_report2 = classification_report(y_test, y_pred2)\n",
        "print(\"Classification Report:\\n\", class_report2)\n"
      ],
      "metadata": {
        "colab": {
          "base_uri": "https://localhost:8080/"
        },
        "id": "GtV7t5sUmH3P",
        "outputId": "66662f73-4a07-499d-9730-5c4b27d5356c"
      },
      "execution_count": 41,
      "outputs": [
        {
          "output_type": "stream",
          "name": "stdout",
          "text": [
            "Accuracy2: 0.9351851851851852\n",
            "Confusion Matrix1:\n",
            " [[57  0  0]\n",
            " [ 5 25  0]\n",
            " [ 2  0 19]]\n",
            "Classification Report:\n",
            "               precision    recall  f1-score   support\n",
            "\n",
            "      Benign       0.89      1.00      0.94        57\n",
            "   Malignant       1.00      0.83      0.91        30\n",
            "      Normal       1.00      0.90      0.95        21\n",
            "\n",
            "    accuracy                           0.94       108\n",
            "   macro avg       0.96      0.91      0.93       108\n",
            "weighted avg       0.94      0.94      0.93       108\n",
            "\n"
          ]
        }
      ]
    },
    {
      "cell_type": "markdown",
      "source": [
        "## DT"
      ],
      "metadata": {
        "id": "YecfMUaPqDxl"
      }
    },
    {
      "cell_type": "code",
      "source": [
        "from sklearn.tree import DecisionTreeClassifier\n",
        "\n",
        "# Create a Decision Tree classifier\n",
        "decision_tree_classifier = DecisionTreeClassifier(\n",
        "                                                   random_state=42, max_depth=20\n",
        "                                                )  # You can adjust random_state if needed\n",
        "\n",
        "# Assuming you have X_train_pca, y_train, X_val_pca, y_val\n",
        "# Train the Decision Tree classifier\n",
        "decision_tree_classifier.fit(X_train_pca, y_resampled)\n",
        "\n",
        "# Make predictions\n",
        "y_pred1 = decision_tree_classifier.predict(X_train_pca)\n",
        "y_pred2 = decision_tree_classifier.predict(X_val_pca)\n",
        "\n",
        "# Calculate accuracy\n",
        "accuracy1 = accuracy_score(y_resampled, y_pred1)\n",
        "accuracy2 = accuracy_score(y_test, y_pred2)\n",
        "print(\"Accuracy1:\", accuracy1)\n",
        "print(\"Accuracy2:\", accuracy2)\n",
        "\n",
        "# Calculate confusion matrix\n",
        "conf_matrix1 = confusion_matrix(y_resampled, y_pred1)\n",
        "conf_matrix2 = confusion_matrix(y_test, y_pred2)\n",
        "print(\"Confusion Matrix1:\\n\", conf_matrix1)\n",
        "print(\"Confusion Matrix2:\\n\", conf_matrix2)\n",
        "\n",
        "# Generate classification report\n",
        "class_report1 = classification_report(y_resampled, y_pred1)\n",
        "class_report2 = classification_report(y_test, y_pred2)\n",
        "print(\"Classification Report1:\\n\", class_report1)\n",
        "print(\"Classification Report2:\\n\", class_report2)\n"
      ],
      "metadata": {
        "colab": {
          "base_uri": "https://localhost:8080/"
        },
        "id": "OA6mkQZUp1eS",
        "outputId": "4ca885d8-ff50-45ac-ee02-72d2532aa892"
      },
      "execution_count": 44,
      "outputs": [
        {
          "output_type": "stream",
          "name": "stdout",
          "text": [
            "Accuracy1: 1.0\n",
            "Accuracy2: 1.0\n",
            "Confusion Matrix1:\n",
            " [[300   0   0]\n",
            " [  0 300   0]\n",
            " [  0   0 300]]\n",
            "Confusion Matrix2:\n",
            " [[57  0  0]\n",
            " [ 0 30  0]\n",
            " [ 0  0 21]]\n",
            "Classification Report1:\n",
            "               precision    recall  f1-score   support\n",
            "\n",
            "      Benign       1.00      1.00      1.00       300\n",
            "   Malignant       1.00      1.00      1.00       300\n",
            "      Normal       1.00      1.00      1.00       300\n",
            "\n",
            "    accuracy                           1.00       900\n",
            "   macro avg       1.00      1.00      1.00       900\n",
            "weighted avg       1.00      1.00      1.00       900\n",
            "\n",
            "Classification Report2:\n",
            "               precision    recall  f1-score   support\n",
            "\n",
            "      Benign       1.00      1.00      1.00        57\n",
            "   Malignant       1.00      1.00      1.00        30\n",
            "      Normal       1.00      1.00      1.00        21\n",
            "\n",
            "    accuracy                           1.00       108\n",
            "   macro avg       1.00      1.00      1.00       108\n",
            "weighted avg       1.00      1.00      1.00       108\n",
            "\n"
          ]
        }
      ]
    },
    {
      "cell_type": "markdown",
      "source": [
        "# RF"
      ],
      "metadata": {
        "id": "YBWMO8J_r0_c"
      }
    },
    {
      "cell_type": "code",
      "source": [
        "from sklearn.ensemble import RandomForestClassifier\n",
        "\n",
        "# Create a Random Forest classifier\n",
        "random_forest_classifier = RandomForestClassifier(n_estimators=100, random_state=100,max_depth=20,\n",
        "                                                  min_samples_split=2, min_samples_leaf=1,\n",
        "                                                  min_weight_fraction_leaf=0.0, max_features='sqrt',\n",
        "                                                  max_leaf_nodes=None, min_impurity_decrease=0.0,\n",
        "                                                  bootstrap=True, oob_score=False, n_jobs=None,\n",
        "                                                  verbose=0, warm_start=False,\n",
        "                                                  class_weight={'Normal':4, 'Malignant':2}, ccp_alpha=0.0, max_samples=0.5)\n",
        "# You can adjust n_estimators and other hyperparameters\n",
        "\n",
        "# Assuming you have X_train_pca, y_train, X_val_pca, y_val\n",
        "# Train the Random Forest classifier\n",
        "random_forest_classifier.fit(X_train_pca, y_resampled)\n",
        "\n",
        "# Make predictions\n",
        "y_pred1 = random_forest_classifier.predict(X_train_pca)\n",
        "y_pred2 = random_forest_classifier.predict(X_val_pca)\n",
        "\n",
        "# Calculate accuracy\n",
        "accuracy1 = accuracy_score(y_resampled, y_pred1)\n",
        "accuracy2 = accuracy_score(y_test, y_pred2)\n",
        "print(\"Accuracy1:\", accuracy1)\n",
        "print(\"Accuracy2:\", accuracy2)\n",
        "\n",
        "# Calculate confusion matrix\n",
        "conf_matrix1 = confusion_matrix(y_resampled, y_pred1)\n",
        "conf_matrix2 = confusion_matrix(y_test, y_pred2)\n",
        "print(\"Confusion Matrix1:\\n\", conf_matrix1)\n",
        "print(\"Confusion Matrix2:\\n\", conf_matrix2)\n",
        "\n",
        "# Generate classification report\n",
        "class_report1 = classification_report(y_resampled, y_pred1)\n",
        "class_report2 = classification_report(y_test, y_pred2)\n",
        "print(\"Classification Report1:\\n\", class_report1)\n",
        "print(\"Classification Report2:\\n\", class_report2)"
      ],
      "metadata": {
        "colab": {
          "base_uri": "https://localhost:8080/"
        },
        "id": "DbNxD7worzGe",
        "outputId": "b1f9a027-f703-4a32-95c0-eb87544fb60b"
      },
      "execution_count": 45,
      "outputs": [
        {
          "output_type": "stream",
          "name": "stdout",
          "text": [
            "Accuracy1: 0.9988888888888889\n",
            "Accuracy2: 0.9907407407407407\n",
            "Confusion Matrix1:\n",
            " [[299   0   1]\n",
            " [  0 300   0]\n",
            " [  0   0 300]]\n",
            "Confusion Matrix2:\n",
            " [[56  0  1]\n",
            " [ 0 30  0]\n",
            " [ 0  0 21]]\n",
            "Classification Report1:\n",
            "               precision    recall  f1-score   support\n",
            "\n",
            "      Benign       1.00      1.00      1.00       300\n",
            "   Malignant       1.00      1.00      1.00       300\n",
            "      Normal       1.00      1.00      1.00       300\n",
            "\n",
            "    accuracy                           1.00       900\n",
            "   macro avg       1.00      1.00      1.00       900\n",
            "weighted avg       1.00      1.00      1.00       900\n",
            "\n",
            "Classification Report2:\n",
            "               precision    recall  f1-score   support\n",
            "\n",
            "      Benign       1.00      0.98      0.99        57\n",
            "   Malignant       1.00      1.00      1.00        30\n",
            "      Normal       0.95      1.00      0.98        21\n",
            "\n",
            "    accuracy                           0.99       108\n",
            "   macro avg       0.98      0.99      0.99       108\n",
            "weighted avg       0.99      0.99      0.99       108\n",
            "\n"
          ]
        }
      ]
    },
    {
      "cell_type": "markdown",
      "source": [
        "# Extra Tree"
      ],
      "metadata": {
        "id": "1GqdYqNDs-v2"
      }
    },
    {
      "cell_type": "code",
      "source": [
        "from sklearn.ensemble import ExtraTreesClassifier\n",
        "from sklearn.metrics import accuracy_score, confusion_matrix, classification_report\n",
        "import numpy as np\n",
        "\n",
        "# Create an Extra Trees classifier\n",
        "extra_trees_classifier = ExtraTreesClassifier(n_estimators=100, random_state=42)\n",
        "# You can adjust n_estimators and other hyperparameters\n",
        "\n",
        "# Assuming you have X_train_pca, y_train, X_val_pca, y_val\n",
        "# Train the Extra Trees classifier\n",
        "extra_trees_classifier.fit(X_train_pca, y_resampled)\n",
        "\n",
        "# Make predictions\n",
        "y_pred1 = extra_trees_classifier.predict(X_train_pca)\n",
        "y_pred2 = extra_trees_classifier.predict(X_val_pca)\n",
        "\n",
        "# Calculate accuracy\n",
        "accuracy1 = accuracy_score(y_resampled, y_pred1)\n",
        "accuracy2 = accuracy_score(y_test, y_pred2)\n",
        "print(\"Accuracy1:\", accuracy1)\n",
        "print(\"Accuracy2:\", accuracy2)\n",
        "\n",
        "# Calculate confusion matrix\n",
        "conf_matrix1 = confusion_matrix(y_resampled, y_pred1)\n",
        "conf_matrix2 = confusion_matrix(y_test, y_pred2)\n",
        "print(\"Confusion Matrix1:\\n\", conf_matrix1)\n",
        "print(\"Confusion Matrix2:\\n\", conf_matrix2)\n",
        "\n",
        "# Generate classification report\n",
        "class_report1 = classification_report(y_resampled, y_pred1)\n",
        "class_report2 = classification_report(y_test, y_pred2)\n",
        "print(\"Classification Report1:\\n\", class_report1)\n",
        "print(\"Classification Report2:\\n\", class_report2)"
      ],
      "metadata": {
        "colab": {
          "base_uri": "https://localhost:8080/"
        },
        "id": "uRPmCVFCqQ9r",
        "outputId": "63110f68-3d28-456e-866c-8450c96682ed"
      },
      "execution_count": 48,
      "outputs": [
        {
          "output_type": "stream",
          "name": "stdout",
          "text": [
            "Accuracy1: 1.0\n",
            "Accuracy2: 1.0\n",
            "Confusion Matrix1:\n",
            " [[300   0   0]\n",
            " [  0 300   0]\n",
            " [  0   0 300]]\n",
            "Confusion Matrix2:\n",
            " [[57  0  0]\n",
            " [ 0 30  0]\n",
            " [ 0  0 21]]\n",
            "Classification Report1:\n",
            "               precision    recall  f1-score   support\n",
            "\n",
            "      Benign       1.00      1.00      1.00       300\n",
            "   Malignant       1.00      1.00      1.00       300\n",
            "      Normal       1.00      1.00      1.00       300\n",
            "\n",
            "    accuracy                           1.00       900\n",
            "   macro avg       1.00      1.00      1.00       900\n",
            "weighted avg       1.00      1.00      1.00       900\n",
            "\n",
            "Classification Report2:\n",
            "               precision    recall  f1-score   support\n",
            "\n",
            "      Benign       1.00      1.00      1.00        57\n",
            "   Malignant       1.00      1.00      1.00        30\n",
            "      Normal       1.00      1.00      1.00        21\n",
            "\n",
            "    accuracy                           1.00       108\n",
            "   macro avg       1.00      1.00      1.00       108\n",
            "weighted avg       1.00      1.00      1.00       108\n",
            "\n"
          ]
        }
      ]
    },
    {
      "cell_type": "code",
      "source": [
        "confusion_mat = confusion_matrix(y_test, y_pred2)\n",
        "plt.figure(figsize=(4, 4))\n",
        "sns.heatmap(confusion_mat, annot=True, cmap='Blues', fmt='g')\n",
        "plt.xlabel('Predicted Labels')\n",
        "plt.ylabel('True Labels')\n",
        "plt.title('SVM without augmentation with PCA')\n",
        "plt.show()"
      ],
      "metadata": {
        "id": "Y-c5j7RGtO32",
        "colab": {
          "base_uri": "https://localhost:8080/",
          "height": 410
        },
        "outputId": "62ac1f83-fadb-4dcf-949f-d3feba0498b2"
      },
      "execution_count": 57,
      "outputs": [
        {
          "output_type": "display_data",
          "data": {
            "text/plain": [
              "<Figure size 400x400 with 2 Axes>"
            ],
            "image/png": "[encoded data removed]"
          },
          "metadata": {}
        }
      ]
    },
    {
      "cell_type": "code",
      "source": [
        "import numpy as np\n",
        "from sklearn.preprocessing import LabelEncoder\n",
        "\n",
        "# Sample class labels\n",
        "class_labels = ['benign', 'malignant', 'normal']\n",
        "\n",
        "# Create a LabelEncoder\n",
        "label_encoder = LabelEncoder()\n",
        "\n",
        "# Fit and transform the class labels\n",
        "encoded_labels = label_encoder.fit_transform(class_labels)\n",
        "\n",
        "print(\"Original class labels:\", class_labels)\n",
        "print(\"Encoded labels:\", encoded_labels)\n"
      ],
      "metadata": {
        "colab": {
          "base_uri": "https://localhost:8080/"
        },
        "id": "NfYW8rvdrWlK",
        "outputId": "fc208016-870b-4c90-cef3-acc8a70ee7b9"
      },
      "execution_count": 60,
      "outputs": [
        {
          "output_type": "stream",
          "name": "stdout",
          "text": [
            "Original class labels: ['benign', 'malignant', 'normal']\n",
            "Encoded labels: [0 1 2]\n"
          ]
        }
      ]
    },
    {
      "cell_type": "code",
      "source": [
        "import matplotlib.pyplot as plt\n",
        "import numpy as np\n",
        "from sklearn.metrics import accuracy_score\n",
        "\n",
        "# Assuming X_train_pca, X_val_pca, y_train, and y_val are your data\n",
        "# and svm_classifier is your trained SVM model\n",
        "\n",
        "train_sizes = np.linspace(0.1, 1.0, 10)  # Adjust as needed\n",
        "train_errors = []\n",
        "val_errors = []\n",
        "train_accuracies = []\n",
        "val_accuracies = []\n",
        "\n",
        "for size in train_sizes:\n",
        "    subset_idx = int(size * len(X_train_pca))\n",
        "    subset_X = X_train_pca[:subset_idx]\n",
        "    subset_y = y_resampled[:subset_idx]\n",
        "\n",
        "    svm_classifier.fit(subset_X, subset_y)\n",
        "\n",
        "    y_pred_train = svm_classifier.predict(X_train_pca)\n",
        "    y_pred_val = svm_classifier.predict(X_val_pca)\n",
        "\n",
        "    error_train = 1 - accuracy_score(y_resampled, y_pred_train)\n",
        "    error_val = 1 - accuracy_score(y_test, y_pred_val)\n",
        "    acc_train = accuracy_score(y_resampled, y_pred_train)\n",
        "    acc_val = accuracy_score(y_test, y_pred_val)\n",
        "\n",
        "    train_errors.append(error_train)\n",
        "    val_errors.append(error_val)\n",
        "    train_accuracies.append(acc_train)\n",
        "    val_accuracies.append(acc_val)\n",
        "\n",
        "plt.figure(figsize=(12, 5))\n",
        "\n",
        "# Error Curve\n",
        "plt.subplot(1, 2, 1)\n",
        "plt.plot(train_sizes * len(X_train_pca), train_errors, label='Train Error')\n",
        "plt.plot(train_sizes * len(X_train_pca), val_errors, label='Validation Error')\n",
        "plt.xlabel('Number of Training Examples')\n",
        "plt.ylabel('Error')\n",
        "plt.title('Learning Curve (Error)')\n",
        "plt.legend()\n",
        "plt.grid()\n",
        "\n",
        "# Accuracy Curve\n",
        "plt.subplot(1, 2, 2)\n",
        "plt.plot(train_sizes * len(X_train_pca), train_accuracies, label='Train Accuracy')\n",
        "plt.plot(train_sizes * len(X_train_pca), val_accuracies, label='Validation Accuracy')\n",
        "plt.xlabel('Number of Training Examples')\n",
        "plt.ylabel('Accuracy')\n",
        "plt.title('Learning Curve (Accuracy)')\n",
        "plt.legend()\n",
        "plt.grid()\n",
        "\n",
        "plt.tight_layout()\n",
        "plt.show()\n"
      ],
      "metadata": {
        "colab": {
          "base_uri": "https://localhost:8080/",
          "height": 406
        },
        "id": "TGPvIywxruLk",
        "outputId": "6073ccfc-b3f8-4a7c-a95b-e119c081ba9c"
      },
      "execution_count": 67,
      "outputs": [
        {
          "output_type": "display_data",
          "data": {
            "text/plain": [
              "<Figure size 1200x500 with 2 Axes>"
            ],
            "image/png": "[encoded data removed]"
          },
          "metadata": {}
        }
      ]
    },
    {
      "cell_type": "code",
      "source": [],
      "metadata": {
        "id": "ybaKcMVqsCzB"
      },
      "execution_count": null,
      "outputs": []
    }
  ]
}